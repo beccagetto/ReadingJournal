{
 "cells": [
  {
   "cell_type": "markdown",
   "metadata": {},
   "source": [
    "# Day 1 Reading Journal\n",
    "\n",
    "Hi everyone.  These are the exercises for the first set of readings from ThinkPython.  While this journal consists of several required exercises, it is meant to encourage active reading more generally.  You should use this journal to take detailed notes, catalog questions, and explore the content from ThinkPython deeply.\n",
    "\n",
    "For more information on using the Jupyter notebook, check out the documentation [here](http://nbviewer.jupyter.org/github/jupyter/notebook/blob/master/docs/source/examples/Notebook/Examples%20and%20Tutorials%20Index.ipynb).  Additionally, in order to write text in this document, you will be making use of markdown cells. A handy cheatsheet for markdown is available [here](https://github.com/adam-p/markdown-here/wiki/Markdown-Cheatsheet)."
   ]
  },
  {
   "cell_type": "markdown",
   "metadata": {},
   "source": [
    "## Chapter 1\n",
    "\n",
    "High-level langages are faster to run and are more portable but must be interpreted (line by line processing) or compiled (interprets entire script at once before running) into a Low-level language that a computer can understand.\n",
    "\n",
    "Source code --> Object code --> Output\n",
    "\n",
    "ERRORS:\n",
    "\n",
    "1. Syntax Errors - error in structure of program (ex. parentheses, name error, etc.)\n",
    "2. Runtime Errors - errors that appear while program is running (ex. infinite loop)\n",
    "3. Semantic Erros - program runs correctly but does not create the desired result (you coded something wrong!)\n",
    "\n",
    "LANGUAGES:\n",
    "\n",
    "Natural Language vs. Formal Language - Computers understand formal langugaes which contain no ambiguity, redundancy, and are literal.\n",
    "\n",
    "Note: the exercise numbers below match up with the reading for ease of cross referencing."
   ]
  },
  {
   "cell_type": "markdown",
   "metadata": {},
   "source": [
    "### Exercise 3\n",
    "\n",
    "Type `help()` to start the online help utility. Or you can type help('print') to get information about the print statement.  You should type `q` and then hit `enter` in the text box to exit the help utility. \n",
    "\n",
    "Note: this exercise is pretty simple (and there's not much to put in the box)!  We just want to make sure that you have tried out this super-handy feature of Python!"
   ]
  },
  {
   "cell_type": "code",
   "execution_count": 4,
   "metadata": {
    "collapsed": false
   },
   "outputs": [
    {
     "name": "stdout",
     "output_type": "stream",
     "text": [
      "The ``print`` statement\n",
      "***********************\n",
      "\n",
      "   print_stmt ::= \"print\" ([expression (\",\" expression)* [\",\"]]\n",
      "                  | \">>\" expression [(\",\" expression)+ [\",\"]])\n",
      "\n",
      "``print`` evaluates each expression in turn and writes the resulting\n",
      "object to standard output (see below).  If an object is not a string,\n",
      "it is first converted to a string using the rules for string\n",
      "conversions.  The (resulting or original) string is then written.  A\n",
      "space is written before each object is (converted and) written, unless\n",
      "the output system believes it is positioned at the beginning of a\n",
      "line.  This is the case (1) when no characters have yet been written\n",
      "to standard output, (2) when the last character written to standard\n",
      "output is a whitespace character except ``' '``, or (3) when the last\n",
      "write operation on standard output was not a ``print`` statement. (In\n",
      "some cases it may be functional to write an empty string to standard\n",
      "output for this reason.)\n",
      "\n",
      "Note: Objects which act like file objects but which are not the built-in\n",
      "  file objects often do not properly emulate this aspect of the file\n",
      "  object's behavior, so it is best not to rely on this.\n",
      "\n",
      "A ``'\\n'`` character is written at the end, unless the ``print``\n",
      "statement ends with a comma.  This is the only action if the statement\n",
      "contains just the keyword ``print``.\n",
      "\n",
      "Standard output is defined as the file object named ``stdout`` in the\n",
      "built-in module ``sys``.  If no such object exists, or if it does not\n",
      "have a ``write()`` method, a ``RuntimeError`` exception is raised.\n",
      "\n",
      "``print`` also has an extended form, defined by the second portion of\n",
      "the syntax described above. This form is sometimes referred to as\n",
      "\"``print`` chevron.\" In this form, the first expression after the\n",
      "``>>`` must evaluate to a \"file-like\" object, specifically an object\n",
      "that has a ``write()`` method as described above.  With this extended\n",
      "form, the subsequent expressions are printed to this file object.  If\n",
      "the first expression evaluates to ``None``, then ``sys.stdout`` is\n",
      "used as the file for output.\n",
      "\n"
     ]
    }
   ],
   "source": [
    "help('print')"
   ]
  },
  {
   "cell_type": "markdown",
   "metadata": {},
   "source": [
    "### Exercise 4  \n",
    "\n",
    "Start the Python interpreter and use it as a calculator. Python’s syntax for math operations is almost the same as standard mathematical notation. For example, the symbols +, - and / denote addition, subtraction and division, as you would expect. The symbol for multiplication is *.\n",
    "\n",
    "If you run a 10 kilometer race in 43 minutes 30 seconds, what is your average time per mile? What is your average speed in miles per hour? (Hint: there are 1.61 kilometers in a mile). "
   ]
  },
  {
   "cell_type": "code",
   "execution_count": 9,
   "metadata": {
    "collapsed": false
   },
   "outputs": [
    {
     "name": "stdout",
     "output_type": "stream",
     "text": [
      "2.68944099379\n",
      "22.3094688222\n"
     ]
    }
   ],
   "source": [
    "miles = 10 * 1.61\n",
    "time = 43.3\n",
    "\n",
    "time_per_mile = time/miles #(minutes per mile)\n",
    "mph = (1/(time_per_mile * (1/60.0))) #(one over hours per mile = miles per hour)\n",
    "print time_per_mile\n",
    "print mph"
   ]
  },
  {
   "cell_type": "markdown",
   "metadata": {},
   "source": [
    "## Chapter 2\n",
    "\n",
    "Value - basic thing programs work with\n",
    "Type - category of value\n",
    "    1. Integer (int) - number without decimal (ex. 5)\n",
    "    2. String (str) - characters in quotation marks (ex. 'Hello!')\n",
    "    3. Float (float) - numbers with a decimal point (ex. 10.2)\n",
    "\n",
    "VARIABLES:\n",
    "Variable - name that refers to a value\n",
    "- assigned with = sign\n",
    "- variable name is any collection of upper and lower case letters\n",
    "\n",
    "OPERATORS & OPERANDS:\n",
    "Operators - symbols that represent computations (ex. +,-,/)\n",
    "Operands - values operators act upon\n",
    "\n",
    "Expression - combination of values, variables and operators\n",
    "Statement - executable unit of code\n",
    "\n",
    "Interactive Mode - line by line \n",
    "Script Mode - compile and run large blocks of code all at once\n",
    "\n",
    "#Comment yo code!"
   ]
  },
  {
   "cell_type": "markdown",
   "metadata": {},
   "source": [
    "### Exercise 2  \n",
    "\n",
    "Assume that we execute the following assignment statements:\n",
    "\n",
    "width = 17\n",
    "height = 12.0\n",
    "delimiter = '.'\n",
    "\n",
    "For each of the following expressions, write the value of the expression and the type (of the value of the expression).\n",
    "\n",
    "1. `width/2`\n",
    "2. `width/2.0`\n",
    "3. `height/3`\n",
    "4. `1 + 2 * 5`\n",
    "5. `delimiter * 5`\n",
    "\n",
    "Please use the following markdown cell to provide your answer."
   ]
  },
  {
   "cell_type": "markdown",
   "metadata": {},
   "source": [
    "1. 17/2 = 8 (int)\n",
    "2. 17/2.0 = 8.5 (float)\n",
    "3. 12.0/3 = 4.0 (float)\n",
    "4. 1 + 2 * 5 = 1 + (2 * 5) = 11 (int)\n",
    "5. '.' * 5 = '.....' (str)"
   ]
  },
  {
   "cell_type": "markdown",
   "metadata": {},
   "source": [
    "### Exercise 3  \n",
    "\n",
    "Practice using the Python interpreter as a calculator.  For each of these provide Python code that computes each answer.\n",
    "\n",
    "    \n"
   ]
  },
  {
   "cell_type": "markdown",
   "metadata": {},
   "source": [
    "The volume of a sphere with radius r is 4/3 $\\pi r^3$. What is the volume of a sphere with radius 5? Hint: 392.7 is wrong!"
   ]
  },
  {
   "cell_type": "code",
   "execution_count": 14,
   "metadata": {
    "collapsed": false
   },
   "outputs": [
    {
     "name": "stdout",
     "output_type": "stream",
     "text": [
      "523.598333333\n"
     ]
    }
   ],
   "source": [
    "r = 5\n",
    "volume = (4.0/3.0) * 3.14159 * (r**3)\n",
    "\n",
    "print volume"
   ]
  },
  {
   "cell_type": "markdown",
   "metadata": {},
   "source": [
    "Suppose the cover price of a book is \\$24.95, but bookstores get a 40% discount. Shipping costs \\$3 for the first copy and 75 cents for each additional copy. What is the total wholesale cost for 60 copies?"
   ]
  },
  {
   "cell_type": "code",
   "execution_count": 15,
   "metadata": {
    "collapsed": false
   },
   "outputs": [
    {
     "name": "stdout",
     "output_type": "stream",
     "text": [
      "945.45\n"
     ]
    }
   ],
   "source": [
    "quantity = 60\n",
    "cover_price = 24.95\n",
    "discount_price = 0.6 * cover_price\n",
    "shipping = 3 + ((quantity - 1) * 0.75)\n",
    "\n",
    "total = quantity * discount_price + shipping\n",
    "print total"
   ]
  },
  {
   "cell_type": "markdown",
   "metadata": {},
   "source": [
    "If I leave my house at 6:52 am and run 1 mile at an easy pace (8:15 per mile), then 3 miles at tempo (7:12 per mile) and 1 mile at easy pace again, what time do I get home for breakfast? "
   ]
  },
  {
   "cell_type": "code",
   "execution_count": 18,
   "metadata": {
    "collapsed": false
   },
   "outputs": [
    {
     "name": "stdout",
     "output_type": "stream",
     "text": [
      "2286\n",
      "38.1\n"
     ]
    }
   ],
   "source": [
    "start_time = 0.0\n",
    "section_1 = 495 #seconds\n",
    "section_2 = 432 * 3 #seconds\n",
    "section_3 = 495 #seconds\n",
    "\n",
    "time_elapsed = section_1 + section_2 + section_3\n",
    "print time_elapsed\n",
    "\n",
    "minutes = time_elapsed / 60.0 \n",
    "print minutes\n",
    "\n",
    "#38.1 minutes elapsed \n",
    "#return home at 7:30 am"
   ]
  },
  {
   "cell_type": "markdown",
   "metadata": {},
   "source": [
    "## Chapter 3\n",
    "\n",
    "FUNCTIONS:\n",
    "\n",
    "Function - named sequance of statements that perform a computation\n",
    "Conversion functions change type of an object\n",
    "\n",
    "Math Funtions:\n",
    "need to import math module\n",
    ">>> import math\n",
    "\n",
    "use math.function notation to call functions in math module\n",
    ">>> math.pi\n",
    "\n",
    "Defining Functions:\n",
    "def function_name():\n",
    "    what the function does\n",
    "    it can do more than one thing\n",
    "    it can do lots of things\n",
    "    and even call another_function()\n",
    "\n",
    "Parameter - argument the function takes insie the parentheses (ex. function_name(parameter): )\n",
    "\n",
    "Fruitful Functions - functions that yield results\n",
    "Void Functions - perform function but do not return a value"
   ]
  },
  {
   "cell_type": "markdown",
   "metadata": {},
   "source": [
    "### Exercise 3\n",
    "\n",
    "Python provides a built-in function called len that returns the length of a string, so the value of len('allen') is 5.\n",
    "Write a function named right_justify that takes a string named s as a parameter and prints the string with enough leading spaces so that the last letter of the string is in column 70 of the display.\n",
    "\n",
    "```\n",
    ">>> right_justify('allen')\n",
    "                                                                 allen```"
   ]
  },
  {
   "cell_type": "code",
   "execution_count": 22,
   "metadata": {
    "collapsed": false
   },
   "outputs": [
    {
     "name": "stdout",
     "output_type": "stream",
     "text": [
      "                                                                string\n"
     ]
    }
   ],
   "source": [
    "s = 'string'\n",
    "def right_justify():\n",
    "    length = len(s)\n",
    "    spaces = 70 - length\n",
    "    print ' ' * spaces + s\n",
    "    \n",
    "right_justify()"
   ]
  },
  {
   "cell_type": "markdown",
   "metadata": {},
   "source": [
    "### Exercise 5\n",
    "\n",
    "This exercise can be done using only the statements and other features we have learned so far.\n",
    "\n",
    "(a) Write a function that draws a grid like the following:\n",
    "```\n",
    "+ - - - - + - - - - +\n",
    "|         |         |\n",
    "|         |         |\n",
    "|         |         |\n",
    "|         |         |\n",
    "+ - - - - + - - - - +\n",
    "|         |         |\n",
    "|         |         |\n",
    "|         |         |\n",
    "|         |         |\n",
    "+ - - - - + - - - - +\n",
    "```\n",
    "**Hint:** to print more than one value on a line, you can print a comma-separated sequence:\n",
    "print '+', '-'\n",
    "If the sequence ends with a comma, Python leaves the line unfinished, so the value printed next appears on the same line.\n",
    "print '+', \n",
    "print '-'\n",
    "The output of these statements is '+ -'.\n",
    "A print statement all by itself ends the current line and goes to the next line."
   ]
  },
  {
   "cell_type": "code",
   "execution_count": 35,
   "metadata": {
    "collapsed": false
   },
   "outputs": [
    {
     "name": "stdout",
     "output_type": "stream",
     "text": [
      "+ - - - - + - - - - +\n",
      "|         |         |\n",
      "|         |         |\n",
      "|         |         |\n",
      "|         |         |\n",
      "+ - - - - + - - - - +\n",
      "|         |         |\n",
      "|         |         |\n",
      "|         |         |\n",
      "|         |         |\n",
      "+ - - - - + - - - - +\n"
     ]
    }
   ],
   "source": [
    "top_row = '+ - - - - '\n",
    "other_rows = '|         '\n",
    "bottom_row = '+ - - - - '\n",
    "side = '|'\n",
    "\n",
    "def box():\n",
    "    print top_row\n",
    "    print other_rows\n",
    "    print other_rows\n",
    "    print other_rows\n",
    "    print other_rows\n",
    "    \n",
    "def grid(size):\n",
    "    size = 2\n",
    "    print top_row * size + '+'\n",
    "    print other_rows * size + side\n",
    "    print other_rows * size + side\n",
    "    print other_rows * size + side\n",
    "    print other_rows * size + side\n",
    "    \n",
    "    print top_row * size + '+'\n",
    "    print other_rows * size + side\n",
    "    print other_rows * size + side\n",
    "    print other_rows * size + side\n",
    "    print other_rows * size + side\n",
    "    \n",
    "    print bottom_row * size + '+'\n",
    "    \n",
    "\n",
    "grid(2)\n",
    "    "
   ]
  },
  {
   "cell_type": "markdown",
   "metadata": {},
   "source": [
    "(b) Write a function that draws a similar grid with four rows and four columns."
   ]
  },
  {
   "cell_type": "code",
   "execution_count": 34,
   "metadata": {
    "collapsed": false
   },
   "outputs": [
    {
     "name": "stdout",
     "output_type": "stream",
     "text": [
      "+ - - - - + - - - - + - - - - + - - - - +\n",
      "|         |         |         |         |\n",
      "|         |         |         |         |\n",
      "|         |         |         |         |\n",
      "|         |         |         |         |\n",
      "+ - - - - + - - - - + - - - - + - - - - +\n",
      "|         |         |         |         |\n",
      "|         |         |         |         |\n",
      "|         |         |         |         |\n",
      "|         |         |         |         |\n",
      "+ - - - - + - - - - + - - - - + - - - - +\n",
      "|         |         |         |         |\n",
      "|         |         |         |         |\n",
      "|         |         |         |         |\n",
      "|         |         |         |         |\n",
      "+ - - - - + - - - - + - - - - + - - - - +\n",
      "|         |         |         |         |\n",
      "|         |         |         |         |\n",
      "|         |         |         |         |\n",
      "|         |         |         |         |\n",
      "+ - - - - + - - - - + - - - - + - - - - +\n"
     ]
    }
   ],
   "source": [
    "def big_grid(size):\n",
    "    size = 4\n",
    "    print top_row * size + '+'\n",
    "    print other_rows * size + side\n",
    "    print other_rows * size + side\n",
    "    print other_rows * size + side\n",
    "    print other_rows * size + side\n",
    "    \n",
    "    print top_row * size + '+'\n",
    "    print other_rows * size + side\n",
    "    print other_rows * size + side\n",
    "    print other_rows * size + side\n",
    "    print other_rows * size + side\n",
    "    \n",
    "    print top_row * size + '+'\n",
    "    print other_rows * size + side\n",
    "    print other_rows * size + side\n",
    "    print other_rows * size + side\n",
    "    print other_rows * size + side\n",
    "    \n",
    "    print top_row * size + '+'\n",
    "    print other_rows * size + side\n",
    "    print other_rows * size + side\n",
    "    print other_rows * size + side\n",
    "    print other_rows * size + side\n",
    "    \n",
    "    print bottom_row * size + '+'\n",
    "    \n",
    "\n",
    "big_grid(4)"
   ]
  },
  {
   "cell_type": "markdown",
   "metadata": {},
   "source": [
    "## Chapter 5.1 - 5.7\n",
    "\n",
    "Modulus Operator (%) - prints remainder from division (ex. 7%3 = 1)\n",
    "Boolean Expression - True or Flase\n",
    "    RATIONAL OPERATORS:\n",
    "        1. x == y   # x is equal to y\n",
    "        2. x != y   # x in not equal to y\n",
    "        3. x > y    # x is greater than y\n",
    "        4. x < y    # x is less than y\n",
    "        5. x >= y   # x is greater than or equal to y\n",
    "        5. x <= y   # x is less than or equal to y\n",
    "        \n",
    "    LOGICAL OPERATORS:\n",
    "        and, or, not\n",
    "        \n",
    "CONDITIONAL EXECUTION:\n",
    "1. If Satements:\n",
    "    if x > 0:\n",
    "        print 'x is positive'\n",
    "    else:\n",
    "        print 'x is negative'\n",
    "\n",
    "2. Elseif Statements:\n",
    "    if x < y:\n",
    "        print 'x is less than y'\n",
    "    elseif x > y:\n",
    "        print 'x is greater than y'\n",
    "    else:\n",
    "        print 'x and y are equal'\n",
    "        \n",
    "Don't nest conditionals! It gets messy!"
   ]
  },
  {
   "cell_type": "markdown",
   "metadata": {},
   "source": [
    "### Exercise 3  \n",
    "\n",
    "Fermat’s Last Theorem says that there are no positive integers a, b, and c such that $a^n + b^n = c^n$ for any values of n greater than 2.\n",
    "\n",
    "(a) Write a function named `check_fermat` that takes four parameters—a, b, c and n—and that checks to see if Fermat’s theorem holds. If n is greater than 2 and it turns out to be true that\n",
    "$a^n + b^n = c^n$ the program should print, \"Holy smokes, Fermat was wrong!\" Otherwise the program should print, \"No, that doesn’t work.\""
   ]
  },
  {
   "cell_type": "code",
   "execution_count": 36,
   "metadata": {
    "collapsed": true
   },
   "outputs": [],
   "source": [
    "def check_fermat(a, b, c, n):\n",
    "    if n > 2:\n",
    "        pass\n",
    "    else:\n",
    "        print \"Pick an exponent value grater than 2.\"\n",
    "    if (a**n) + (b**n) == (C**n):\n",
    "        print \"Holy smokes, Fermat was wrong!\"\n",
    "    else:\n",
    "        print \"No, that doesn't work.\""
   ]
  },
  {
   "cell_type": "markdown",
   "metadata": {},
   "source": [
    "(b) Write a function that prompts the user to input values for a, b, c and n, converts them to integers, and uses check_fermat to check whether they violate Fermat’s theorem."
   ]
  },
  {
   "cell_type": "code",
   "execution_count": 37,
   "metadata": {
    "collapsed": true
   },
   "outputs": [],
   "source": [
    "def now_with_numbers():\n",
    "    a = raw_input(\"Choose a value for a\")\n",
    "    b = raw_input(\"Now pick a b\")\n",
    "    c = raw_input(\"I need a c as well\")\n",
    "    n = raw_input(\"And finally choose n... but it has to be bigger than 2!\")\n",
    "    \n",
    "    a = int(a)\n",
    "    b = int(b)\n",
    "    c = int(c)\n",
    "    n = int(n)\n",
    "    \n",
    "    check_fermat(a, b, c, n)"
   ]
  },
  {
   "cell_type": "markdown",
   "metadata": {},
   "source": [
    "### Exercise 4  \n",
    "\n",
    "If you are given three sticks, you may or may not be able to arrange them in a triangle. For example, if one of the sticks is 12 inches long and the other two are one inch long, it is clear that you will not be able to get the short sticks to meet in the middle. For any three lengths, there is a simple test to see if it is possible to form a triangle:\n",
    "> If any of the three lengths is greater than the sum of the other two, then you cannot form a triangle. Otherwise, you can. (If the sum of two lengths equals the third, they form what is called a “degenerate” triangle.)\n",
    "\n",
    "(a) Write a function named `is_triangle` that takes three integers as arguments, and that prints either \"Yes\" or \"No,\" depending on whether you can or cannot form a triangle from sticks with the given lengths."
   ]
  },
  {
   "cell_type": "code",
   "execution_count": null,
   "metadata": {
    "collapsed": true
   },
   "outputs": [],
   "source": [
    "def is_triangle(a, b, c):\n",
    "    if a + b >= c or a +c >= b or b +c >= a:\n",
    "        print 'Yes'\n",
    "    else:\n",
    "        print 'No'"
   ]
  },
  {
   "cell_type": "markdown",
   "metadata": {},
   "source": [
    "(b) Write a function that prompts the user to input three stick lengths, converts them to integers, and uses is_triangle to check whether sticks with the given lengths can form a triangle."
   ]
  },
  {
   "cell_type": "code",
   "execution_count": 38,
   "metadata": {
    "collapsed": true
   },
   "outputs": [],
   "source": [
    "def is_triangle_input(a, b, c):\n",
    "    a = raw_input('Triangle length 1')\n",
    "    b = raw_input('Triangle length 2')\n",
    "    c = raw_input('Triangle length 3')\n",
    "    \n",
    "    a = int(a)\n",
    "    b = int(b)\n",
    "    c = int(c)\n",
    "    \n",
    "    is_triangle (a, b, c)"
   ]
  },
  {
   "cell_type": "markdown",
   "metadata": {},
   "source": [
    "## Notes for the Instructors\n",
    "\n",
    "Please use the space below to write comments to help us plan the next class session.  For instance, if you want to see us go over an example of a particular type of problem, you can indicate that here.\n",
    "\n",
    "Please remember that the best way to get quick feedback from the instructors as well as your peers, is to use Piazza.  However, consider using this channel if it doesn't make sense to post your note to Piazza."
   ]
  },
  {
   "cell_type": "markdown",
   "metadata": {},
   "source": [
    "Can you go over how we should be writing, saving and running scripts from a text editor please. I get how to run code one line at a time from the command line but I am not so sure how I should be dealing with an actual script. Sorry if this is a really basic question. I feel like the book kind of assumed I already knew what I was doing in this case. \n",
    "Also, were we supposed to already know that raw_input command? I don't think it was in any of the reading and I just happened to remember it from when I did a little bit of python in Codecademy but I would have been really sad, lost and confused otherwise.\n",
    "Also, also, can you show me a better way to do the grid problem? I kind of brute forced it but I am sure there is a simpler and cleaner way."
   ]
  },
  {
   "cell_type": "markdown",
   "metadata": {},
   "source": []
  }
 ],
 "metadata": {
  "kernelspec": {
   "display_name": "Python 2",
   "language": "python",
   "name": "python2"
  },
  "language_info": {
   "codemirror_mode": {
    "name": "ipython",
    "version": 2
   },
   "file_extension": ".py",
   "mimetype": "text/x-python",
   "name": "python",
   "nbconvert_exporter": "python",
   "pygments_lexer": "ipython2",
   "version": "2.7.6"
  }
 },
 "nbformat": 4,
 "nbformat_minor": 0
}
