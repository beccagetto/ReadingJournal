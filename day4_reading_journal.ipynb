{
 "cells": [
  {
   "cell_type": "markdown",
   "metadata": {},
   "source": [
    "# Day 4 Reading Journal\n",
    "\n",
    "This journal includes several required exercises, but it is meant to encourage active reading more generally.  You should use the journal to take detailed notes, catalog questions, and explore the content from Think Python deeply.\n",
    "\n",
    "Reading: Think Python Chapter 10\n",
    "\n",
    "**Due: Thursday, February 4 at 12 noon**\n",
    "\n"
   ]
  },
  {
   "cell_type": "markdown",
   "metadata": {},
   "source": [
    "## [Chapter 10](http://www.greenteapress.com/thinkpython/html/thinkpython011.html)\n",
    "\n",
    "You may want to review [state diagrams in Chapter 2](http://www.greenteapress.com/thinkpython/html/thinkpython003.html#toc13). [Python Tutor](http://pythontutor.com/) is also helpful for visualizing the state of your program.\n",
    "\n",
    "MAP, FILTER & REDUCE:\n",
    "- accumulator = loop that accumulates sum of element in string\n",
    "- filter = loop that selects only certain elements from a list"
   ]
  },
  {
   "cell_type": "code",
   "execution_count": null,
   "metadata": {
    "collapsed": true
   },
   "outputs": [],
   "source": [
    "def add_all(t):\n",
    "    total = 0\n",
    "    for x in t:\n",
    "        total += t\n",
    "    return total"
   ]
  },
  {
   "cell_type": "code",
   "execution_count": null,
   "metadata": {
    "collapsed": true
   },
   "outputs": [],
   "source": [
    "def only_upper(t):\n",
    "    res = []\n",
    "    for s in t:\n",
    "        if s.isupper():\n",
    "            res.append(s)\n",
    "    return res"
   ]
  },
  {
   "cell_type": "markdown",
   "metadata": {},
   "source": [
    "DELETING ELEMENTS:\n",
    "- there are many ways to delete elements from a string, some remember what was delted (t.pop(1)) and others do not (del t[1] or t.remove('b'))\n",
    "- multiple elements can be removed at once using slices (del t[1:3])\n",
    "\n",
    "LISTS & STRINGS:\n",
    "- can turn lists into strings and strings into lists"
   ]
  },
  {
   "cell_type": "code",
   "execution_count": 6,
   "metadata": {
    "collapsed": false
   },
   "outputs": [
    {
     "name": "stdout",
     "output_type": "stream",
     "text": [
      "['h', 'e', 'l', 'l', 'o']\n"
     ]
    }
   ],
   "source": [
    "s = 'hello'\n",
    "t = list(s)\n",
    "print t"
   ]
  },
  {
   "cell_type": "code",
   "execution_count": 5,
   "metadata": {
    "collapsed": false
   },
   "outputs": [
    {
     "name": "stdout",
     "output_type": "stream",
     "text": [
      "['hello', 'my', 'name', 'is', 'Becca']\n"
     ]
    }
   ],
   "source": [
    "s = 'hello my name is Becca'\n",
    "t = s.split()\n",
    "print t"
   ]
  },
  {
   "cell_type": "code",
   "execution_count": 7,
   "metadata": {
    "collapsed": false
   },
   "outputs": [
    {
     "name": "stdout",
     "output_type": "stream",
     "text": [
      "['meow', 'meow', 'meow']\n"
     ]
    }
   ],
   "source": [
    "s = 'meow-meow-meow'\n",
    "t = s.split('-')\n",
    "print t"
   ]
  },
  {
   "cell_type": "markdown",
   "metadata": {},
   "source": [
    "OBJECTS & VALUES:\n",
    "- equivalnet objects have the same elements\n",
    "- identical objects are the same object which means modifying one would change the other\n",
    "\n",
    "ALIASING:\n",
    "- aliasing = when two different variable names refer to the same object \n",
    "- dangerous because can cause LOTS of debugging pain\n",
    "- modifying object with one variable name will casue the value to remain changed even if called again with the other name\n",
    "\n",
    "LIST ARGUMENTS:\n",
    "- some operations modify existing lists while other creat a new list\n",
    "- t.append() modifies existing list\n",
    "-  + operator creates new list (t3 = t2 + t1)"
   ]
  },
  {
   "cell_type": "markdown",
   "metadata": {},
   "source": [
    "### Exercise 4  \n",
    "Write a function called `middle` that takes a list and returns a new list that contains all but the first and last elements. So `middle([1,2,3,4])` should return `[2,3]`."
   ]
  },
  {
   "cell_type": "code",
   "execution_count": 14,
   "metadata": {
    "collapsed": false
   },
   "outputs": [
    {
     "name": "stdout",
     "output_type": "stream",
     "text": [
      "[1, 2, 3, 4, 5]\n",
      "[2, 3, 4]\n"
     ]
    },
    {
     "data": {
      "text/plain": [
       "[2, 3, 4]"
      ]
     },
     "execution_count": 14,
     "metadata": {},
     "output_type": "execute_result"
    }
   ],
   "source": [
    "original_list = [1, 2, 3, 4, 5]\n",
    "\n",
    "import copy\n",
    "def middle(original_list):\n",
    "    copied_list = []\n",
    "    copied_list = copy.copy(original_list)\n",
    "    del copied_list[0]\n",
    "    del copied_list[-1]\n",
    "    \n",
    "    print original_list\n",
    "    print copied_list\n",
    "    return copied_list\n",
    "    \n",
    "middle(original_list)"
   ]
  },
  {
   "cell_type": "markdown",
   "metadata": {},
   "source": [
    "### Exercise 5  \n",
    "Write a function called `chop` that takes a list, modifies it by removing the first and last elements, and returns `None`.\n",
    "\n",
    "What is the difference between `middle` and `chop`? Sketch out the program state or take a look at each in Python Tutor."
   ]
  },
  {
   "cell_type": "code",
   "execution_count": 17,
   "metadata": {
    "collapsed": false
   },
   "outputs": [
    {
     "name": "stdout",
     "output_type": "stream",
     "text": [
      "[2, 3, 4]\n"
     ]
    }
   ],
   "source": [
    "the_list = [1, 2, 3, 4, 5]\n",
    "\n",
    "def chop(the_list):\n",
    "    del the_list[0]\n",
    "    del the_list[-1]\n",
    "    \n",
    "    print the_list\n",
    "    return\n",
    "\n",
    "chop(the_list)"
   ]
  },
  {
   "cell_type": "markdown",
   "metadata": {},
   "source": [
    "### Exercise 7  \n",
    "Two words are anagrams if you can rearrange the letters from one to spell the other. Write a function called `is_anagram` that takes two strings and returns `True` if they are anagrams."
   ]
  },
  {
   "cell_type": "code",
   "execution_count": 31,
   "metadata": {
    "collapsed": false
   },
   "outputs": [
    {
     "data": {
      "text/plain": [
       "True"
      ]
     },
     "execution_count": 31,
     "metadata": {},
     "output_type": "execute_result"
    }
   ],
   "source": [
    "\"\"\"\n",
    "Determines if two words are anagrams of one another\n",
    "\n",
    ">>> is_anagram('silent','listen')\n",
    "True\n",
    "\n",
    ">>> is_anagram('Hello', 'hello')\n",
    "True\n",
    "\n",
    ">>> is_anagram('Word', 'Wordy')\n",
    "False\n",
    "\"\"\"\n",
    "\n",
    "def is_anagram(first_word, second_word):\n",
    "    first_word = first_word.lower()\n",
    "    second_word = second_word.lower()\n",
    "    \n",
    "    list_1 = list(first_word)\n",
    "    list_2 = list(second_word)\n",
    "    \n",
    "    list_1.sort()\n",
    "    list_2.sort()\n",
    "    \n",
    "    return list_1 == list_2\n",
    "       \n",
    "        \n",
    "is_anagram('Rabbit', 'rabbit')\n",
    "\n",
    "#import doctest\n"
   ]
  },
  {
   "cell_type": "markdown",
   "metadata": {},
   "source": [
    "### Exercise 8  \n",
    "The (so-called) Birthday Paradox:\n",
    "1. Write a function called `has_duplicates` that takes a list and returns `True` if there is any element that appears more than once. It should not modify the original list.\n",
    "2. If there are 23 students in your class, what are the chances that two of you have the same birthday? You can estimate this probability by generating random samples of 23 birthdays and checking for matches. Hint: you can generate random birthdays with the randint function in the [random module](https://docs.python.org/2/library/random.html).\n",
    "\n",
    "You can read about this problem at http://en.wikipedia.org/wiki/Birthday_paradox, and you can download Allen's solution from http://thinkpython.com/code/birthday.py."
   ]
  },
  {
   "cell_type": "code",
   "execution_count": 2,
   "metadata": {
    "collapsed": false
   },
   "outputs": [
    {
     "data": {
      "text/plain": [
       "0"
      ]
     },
     "execution_count": 2,
     "metadata": {},
     "output_type": "execute_result"
    }
   ],
   "source": [
    "import random                               # imports the built-in random module\n",
    "\n",
    "def has_duplicates(my_list):\n",
    "    sorted_list = my_list[:]\n",
    "    sorted_list.sort()\n",
    "    for i in range(len(sorted_list)-1):\n",
    "        if sorted_list[i] == sorted_list[i+1]:\n",
    "            return True\n",
    "    return False\n",
    "\n",
    "def random_birthdays(n):\n",
    "    birthday_list = []\n",
    "    for i in range(n):\n",
    "        birthday = random.randint(1, 365)\n",
    "        birthday_list.append(birthday)\n",
    "    return birthday_list\n",
    "\n",
    "def same_birthday(class_size, samples):\n",
    "    count = 0\n",
    "    for i in range(samples):\n",
    "        birthday_list = random_birthdays(class_size)\n",
    "        if has_duplicates(birthday_list):\n",
    "            count += 1\n",
    "        return count\n",
    "    \n",
    "\n",
    "same_birthday(23, 10000)"
   ]
  },
  {
   "cell_type": "markdown",
   "metadata": {},
   "source": [
    "### Challenge: Exercise 11 (optional)\n",
    "\n",
    "You should read [Chapter 9.1](http://www.greenteapress.com/thinkpython/html/thinkpython010.html) and do Exercise 1 first.\n",
    "\n",
    "To check whether a word is in the word list, you could use the `in` operator, but it would be relatively slow because it searches through the words in order (try it).\n",
    "\n",
    "Because the words are in alphabetical order, we can speed things up with a bisection search (also known as binary search), which is similar to what you do when you look a word up in the dictionary. You start in the middle and check to see whether the word you are looking for comes before the word in the middle of the list. If so, then you search the first half of the list the same way. Otherwise you search the second half.\n",
    "\n",
    "Either way, you cut the remaining search space in half. If the word list has 113,809 words, it will take about 17 steps to find the word or conclude that it’s not there.\n",
    "\n",
    "Write a function called `bisect` that takes a sorted list and a target value and returns the index of the value in the list, if it’s there, or `None` if it’s not.\n",
    "\n",
    "Or you could read the documentation of the `bisect` module and use that! Solution: http://thinkpython.com/code/inlist.py."
   ]
  },
  {
   "cell_type": "code",
   "execution_count": null,
   "metadata": {
    "collapsed": true
   },
   "outputs": [],
   "source": []
  },
  {
   "cell_type": "markdown",
   "metadata": {},
   "source": [
    "## Reading Journal feedback\n",
    "\n",
    "Have any comments on this Reading Journal? Feel free to leave them below and we'll read them when you submit your journal entry. This could include suggestions to improve the exercises, topics you'd like to see covered in class next time, or other feedback.\n",
    "\n",
    "If you have Python questions or run into problems while completing the reading, you should post them to Piazza instead so you can get a quick response before your journal is submitted."
   ]
  },
  {
   "cell_type": "markdown",
   "metadata": {},
   "source": [
    "I just wanted to let you know that I needed to look at Allen's code in order to figure out the birthday problem. I has struggling with how to account for duplicates that do not occur one after the other because I forgot about the sort function so once I saw that is made the birthday and the anagram problem much easier. \n",
    "\n",
    "Questions about deleting items from a list or string:\n",
    "Let's say I have two lists and I want to see if the elements of one are in the other. As I run throught the elements of list 1, I want to delete the matching elements (although they have different indices) from the second list. How do I do this? And how would this be different for strings? I tried to to do this for the anagram problem before to account for duplicate letters before I figured out the sort thing. "
   ]
  },
  {
   "cell_type": "code",
   "execution_count": null,
   "metadata": {
    "collapsed": true
   },
   "outputs": [],
   "source": []
  }
 ],
 "metadata": {
  "kernelspec": {
   "display_name": "Python 2",
   "language": "python",
   "name": "python2"
  },
  "language_info": {
   "codemirror_mode": {
    "name": "ipython",
    "version": 2
   },
   "file_extension": ".py",
   "mimetype": "text/x-python",
   "name": "python",
   "nbconvert_exporter": "python",
   "pygments_lexer": "ipython2",
   "version": "2.7.6"
  }
 },
 "nbformat": 4,
 "nbformat_minor": 0
}
