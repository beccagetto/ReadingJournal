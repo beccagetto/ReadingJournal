{
 "cells": [
  {
   "cell_type": "markdown",
   "metadata": {},
   "source": [
    "# Day 11 Reading Journal\n",
    "\n",
    "This journal includes several required exercises, but it is meant to encourage active reading more generally.  You should use the journal to take detailed notes, catalog questions, and explore the content from Think Python deeply.\n",
    "\n",
    "Reading: Review Think Python Chapters 15-17\n",
    "\n",
    "**Due: Monday, February 29 at 12 noon**\n",
    "\n"
   ]
  },
  {
   "cell_type": "markdown",
   "metadata": {},
   "source": [
    "## [Chapter 15](http://www.greenteapress.com/thinkpython/html/thinkpython016.html), [Chapter 16](http://www.greenteapress.com/thinkpython/html/thinkpython017.html), [Chapter 17](http://www.greenteapress.com/thinkpython/html/thinkpython018.html)\n",
    "\n",
    "\n",
    "By the end of chapter 17, we have all the tools we need to create our own user-defined types known as classes. In this reading journal, we're asking you to review and solidify your understanding of this material so we can build on it for the rest of the course. \n",
    "\n",
    "If you didn't get a chance to fully complete the Day 10 reading journal, you may want to do so now."
   ]
  },
  {
   "cell_type": "markdown",
   "metadata": {
    "problem": "Terminology"
   },
   "source": [
    "### Terminology\n",
    "\n",
    "You should be familiar with the following list of terms and concepts. If any of them are unclear to you, re-read, ask, write a definition in your own words, and try an example if appropriate.\n",
    "\n",
    " - class\n",
    " - object\n",
    " - instance\n",
    " - attribute\n",
    " - method\n",
    " - shallow vs deep copying\n",
    " - pure functions vs modifiers\n",
    " - initializing object instances\n",
    " "
   ]
  },
  {
   "cell_type": "markdown",
   "metadata": {
    "is_question": true,
    "problem": "Exercise 1"
   },
   "source": [
    "### Exercise\n",
    "\n",
    "We're going to take the first steps toward writing a calendar application. To keep things simple, we'll restrict ourselves to a single day for now. Write an `Event` class with the following attributes:\n",
    "\n",
    " - `name`  : Title for the `Event`\n",
    " - `start` : `Time` object representing the start time for the `Event`\n",
    " - `end`   : `Time` object representing the end time for the `Event`\n",
    "\n",
    "You can also augment your `Event` class with additional attributes, such as location and attendees.\n",
    "\n",
    "Write `__init__` and `__str__` methods for your `Event` class."
   ]
  },
  {
   "cell_type": "code",
   "execution_count": 2,
   "metadata": {
    "collapsed": true,
    "solution": "Exercise 1"
   },
   "outputs": [],
   "source": [
    "class Event(object):\n",
    "    \"\"\"Represents an even that taken place in time.\n",
    "    \n",
    "    attributes: name, start, end\n",
    "    \"\"\"\n",
    "    \n",
    "    def __init__(self, name, start, end, location=None, atendees=None):\n",
    "        self.name = name\n",
    "        self.start = start\n",
    "        self.end = end\n",
    "        self.location = location\n",
    "        self.atendees = atendees\n",
    "        \n",
    "    def __str__(self):\n",
    "        return \"The event {} begins at {} and ends at {}.\".format(self.name, self.start, self.end)"
   ]
  },
  {
   "cell_type": "markdown",
   "metadata": {
    "is_question": true,
    "problem": "Exercise 2"
   },
   "source": [
    "### Exercise\n",
    "\n",
    "Write a `duration` method that returns the duration of the `Event` in minutes."
   ]
  },
  {
   "cell_type": "code",
   "execution_count": 8,
   "metadata": {
    "collapsed": false,
    "solution": "Exercise 2"
   },
   "outputs": [
    {
     "name": "stdout",
     "output_type": "stream",
     "text": [
      "start <class '__main__.Time'>\n",
      "end <class '__main__.Time'>\n",
      "30.0\n"
     ]
    }
   ],
   "source": [
    "class Time(object):\n",
    "    \"\"\"Represents the time of day.\n",
    "       \n",
    "    attributes: hour, minute, second\n",
    "    \"\"\"\n",
    "    def __init__(self, hour=0, minute=0, second=0):\n",
    "        minutes = hour * 60 + minute\n",
    "        self.seconds = minutes * 60 + second\n",
    "\n",
    "    def __str__(self):\n",
    "        minutes, second = divmod(self.seconds, 60)\n",
    "        hour, minute = divmod(minutes, 60)\n",
    "        return '%.2d:%.2d:%.2d' % (hour, minute, second)\n",
    "\n",
    "    def print_time(self):\n",
    "        print str(self)\n",
    "\n",
    "    def time_to_int(self):\n",
    "        \"\"\"Computes the number of seconds since midnight.\"\"\"\n",
    "        return self.seconds        \n",
    "\n",
    "    def is_after(self, other):\n",
    "        \"\"\"Returns True if t1 is after t2; false otherwise.\"\"\"\n",
    "        return self.seconds > other.seconds\n",
    "\n",
    "    def __add__(self, other):\n",
    "        \"\"\"Adds two Time objects or a Time object and a number.\n",
    "\n",
    "        other: Time object or number of seconds\n",
    "        \"\"\"\n",
    "        if isinstance(other, Time):\n",
    "            return self.add_time(other)\n",
    "        else:\n",
    "            return self.increment(other)\n",
    "    \n",
    "    def __sub__(self, other):\n",
    "        return Time(0, 0, self.time_to_int() - other.time_to_int())\n",
    "\n",
    "    def __radd__(self, other):\n",
    "        \"\"\"Adds two Time objects or a Time object and a number.\"\"\"\n",
    "        return self.__add__(other)\n",
    "\n",
    "    def add_time(self, other):\n",
    "        \"\"\"Adds two time objects.\"\"\"\n",
    "        assert self.is_valid() and other.is_valid()\n",
    "        seconds = self.seconds + other.seconds\n",
    "        return int_to_time(seconds)\n",
    "\n",
    "    def increment(self, seconds):\n",
    "        \"\"\"Returns a new Time that is the sum of this time and seconds.\"\"\"\n",
    "        seconds += self.seconds\n",
    "        return int_to_time(seconds)\n",
    "\n",
    "    def is_valid(self):\n",
    "        \"\"\"Checks whether a Time object satisfies the invariants.\"\"\"\n",
    "        return self.seconds >= 0 and self.seconds < 24*60*60\n",
    "\n",
    "\n",
    "\n",
    "class Event(object):\n",
    "    \"\"\"Represents an even that taken place in time.\n",
    "    \n",
    "    attributes: name, start, end\n",
    "    \"\"\"\n",
    "    \n",
    "    def __init__(self, name, start, end):\n",
    "        \"\"\" create an event with the specified name and start and end times specified as Time objects \"\"\"\n",
    "        self.name = name\n",
    "        self.start = start\n",
    "        self.end = end\n",
    "        print \"start\", type(self.start)        \n",
    "        print \"end\", type(self.end)\n",
    "        \n",
    "    def __str__(self):\n",
    "        return \"The event {} begins at {} and ends at {}.\".format(self.name, self.start, self.end)\n",
    "    \n",
    "    def duration(self):\n",
    "        \"\"\"Returns the duration of an event.\"\"\"\n",
    "        difference = self.end - self.start\n",
    "        return difference.time_to_int() / 60.0\n",
    "\n",
    "event = Event('breakfast', Time(7,30,0), Time(8,0,0))\n",
    "print event.duration()"
   ]
  },
  {
   "cell_type": "markdown",
   "metadata": {
    "is_question": true,
    "problem": "Exercise 3"
   },
   "source": [
    "### Exercise\n",
    "\n",
    "Write an `Agenda` class that contains several `Event`s for the day.\n",
    "\n",
    "**Quick check: ** How should you store `Event`s within your `Agenda` class?\n",
    "\n",
    "Your `Agenda` class should include a `print_agenda` method that prints out your schedule for the day, in order.\n",
    "\n",
    "**Optional:** Include a `is_feasible` method that returns `True` if your schedule has no time conflicts. You may want to write additional helper methods for the `Event` class to make this easier."
   ]
  },
  {
   "cell_type": "code",
   "execution_count": 12,
   "metadata": {
    "collapsed": false,
    "solution": "Exercise 3"
   },
   "outputs": [
    {
     "name": "stdout",
     "output_type": "stream",
     "text": [
      "start <class '__main__.Time'>\n",
      "end <class '__main__.Time'>\n",
      "start <class '__main__.Time'>\n",
      "end <class '__main__.Time'>\n",
      "The event breakfast begins at 07:30:00 and ends at 08:00:00.\n",
      "The event Physics begins at 09:00:00 and ends at 10:40:00.\n"
     ]
    }
   ],
   "source": [
    "# class Event(object):\n",
    "#     \"\"\"Represents an even that taken place in time.\n",
    "    \n",
    "#     attributes: name, start, end\n",
    "#     \"\"\"\n",
    "    \n",
    "#     def __init__(self, name, start, end):\n",
    "#         self.name = name\n",
    "#         self.start = start\n",
    "#         self.end = end\n",
    "        \n",
    "#     def __str__(self):\n",
    "#         return \"The event {} begins at {} and ends at {}.\".format(self.name, self.start, self.end)\n",
    "    \n",
    "#     def duration(self):\n",
    "#         \"\"\"Returns the duration of an event.\"\"\"\n",
    "        \n",
    "#         return self.end - self.start\n",
    "    \n",
    "class Agenda(object):\n",
    "    \"\"\"Represents a collection of all of the events in a day.\"\"\"\n",
    "    \n",
    "    def __init__(self, events):\n",
    "        self.events = events\n",
    "        \n",
    "    def print_agenda(self):\n",
    "        for event in self.events:\n",
    "            print event\n",
    "            \n",
    "    \n",
    "events = []\n",
    "events.append(Event('breakfast', Time(7,30,0), Time(8,0,0)))\n",
    "events.append(Event('Physics', Time(9,0,0), Time(10,40, 0)))\n",
    "my_agenda = Agenda(events)\n",
    "my_agenda.print_agenda()"
   ]
  },
  {
   "cell_type": "markdown",
   "metadata": {
    "is_question": true,
    "problem": "Exercise 4"
   },
   "source": [
    "### Going Beyond (optional)\n",
    "\n",
    "Some ideas for taking your application further:\n",
    " - Add people and/or places to the mix to create a scheduling assistant\n",
    " - Extend support for day-of-week or full date. A word of warning: dealing with dates and times in real applications is difficult due to the huge number of special cases (Perfect example: this reading journal is due on Leap Day). Consider using something like the Python [datetime](https://docs.python.org/2/library/datetime.html) module.\n",
    " - Use pickle or some other persistence strategy to save and load your `Agenda`."
   ]
  },
  {
   "cell_type": "code",
   "execution_count": null,
   "metadata": {
    "collapsed": true,
    "solution": "Exercise 4"
   },
   "outputs": [],
   "source": []
  },
  {
   "cell_type": "markdown",
   "metadata": {
    "is_poll": true,
    "is_question": true,
    "problem": "Time spent"
   },
   "source": [
    "## Quick poll\n",
    "About how long did you spend working on this Reading Journal?"
   ]
  },
  {
   "cell_type": "markdown",
   "metadata": {
    "poll_response": true,
    "solution": "Time spent"
   },
   "source": [
    " "
   ]
  },
  {
   "cell_type": "markdown",
   "metadata": {
    "is_question": true,
    "problem": "Feedback"
   },
   "source": [
    "## Reading Journal feedback\n",
    "\n",
    "Have any comments on this Reading Journal? Feel free to leave them below and we'll read them when you submit your journal entry. This could include suggestions to improve the exercises, topics you'd like to see covered in class next time, or other feedback.\n",
    "\n",
    "If you have Python questions or run into problems while completing the reading, you should post them to Piazza instead so you can get a quick response before your journal is submitted."
   ]
  },
  {
   "cell_type": "markdown",
   "metadata": {
    "feedback_response": true,
    "solution": "Feedback"
   },
   "source": [
    "I am having a lot of trouble understanding the agenda exercise. Am I allowed to nest user defined objects within other user defined objects? Are the events supposed to be methods? Or stored in a dictionary? I feel like this example jumped way far ahead of where I was barely holding on before...\n",
    "Also is there a way to specify the format of the input to a class. I know with __str__ I can pick how the result is printed out, but how do I make sure the times fro events are input in a consistent way?"
   ]
  },
  {
   "cell_type": "code",
   "execution_count": null,
   "metadata": {
    "collapsed": true
   },
   "outputs": [],
   "source": []
  }
 ],
 "metadata": {
  "celltoolbar": "Edit Metadata",
  "kernelspec": {
   "display_name": "Python 2",
   "language": "python",
   "name": "python2"
  },
  "language_info": {
   "codemirror_mode": {
    "name": "ipython",
    "version": 2
   },
   "file_extension": ".py",
   "mimetype": "text/x-python",
   "name": "python",
   "nbconvert_exporter": "python",
   "pygments_lexer": "ipython2",
   "version": "2.7.6"
  }
 },
 "nbformat": 4,
 "nbformat_minor": 0
}
