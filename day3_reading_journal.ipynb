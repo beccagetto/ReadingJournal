{
 "cells": [
  {
   "cell_type": "markdown",
   "metadata": {},
   "source": [
    "# Day 3 Reading Journal\n",
    "\n",
    "This journal includes several required exercises, but it is meant to encourage active reading more generally.  You should use the journal to take detailed notes, catalog questions, and explore the content from Think Python deeply.\n",
    "\n",
    "Reading: Think Python Chapter 8, 10.1-10.6\n",
    "\n",
    "**Due: Monday, February 1 at 12 noon**\n",
    "\n"
   ]
  },
  {
   "cell_type": "markdown",
   "metadata": {},
   "source": [
    "## [Chapter 8](http://www.greenteapress.com/thinkpython/html/thinkpython009.html)\n",
    "\n",
    "Note: the exercise numbers below match up with the reading for ease of cross referencing.\n",
    "\n",
    "STRINGS:\n",
    "A string is a sequence of characters that can be individually accessed using []\n",
    " fruit = 'banana'\n",
    " letter = frunit[1]\n",
    " print letter .... a\n",
    "\n",
    "Note: The first unit character is indexed at 0\n",
    "\n",
    "LENGTH:\n",
    "len() is a built in function that returns the number of characters in a string.\n",
    "\n",
    "- Can use length to help index charcters (ex. last_letter = fruit[length-1] or last_letter = fruit[-1])\n",
    "- [-1] gives the last letter\n",
    "- [-2] gives the second to last letter\n",
    "\n",
    "LOOPS:\n",
    "Traversal - performing action on one member of string then continuing to complete the same action on each member in turn.\n"
   ]
  },
  {
   "cell_type": "markdown",
   "metadata": {},
   "source": [
    "### Exercise 1  \n",
    "\n",
    "Write a function that takes a string as an argument and displays the letters backward, one per line."
   ]
  },
  {
   "cell_type": "code",
   "execution_count": 10,
   "metadata": {
    "collapsed": false
   },
   "outputs": [
    {
     "name": "stdout",
     "output_type": "stream",
     "text": [
      "a\n",
      "n\n",
      "a\n",
      "n\n",
      "a\n",
      "b\n"
     ]
    }
   ],
   "source": [
    "import doctest\n",
    "\n",
    "def backwards(word):\n",
    "    \"\"\"\n",
    "    Prints given word spelled out backwards with one letter per line\n",
    "    \n",
    "    >>> backwards('elephant')\n",
    "    t\n",
    "    n\n",
    "    a\n",
    "    h\n",
    "    p\n",
    "    e\n",
    "    l\n",
    "    e\n",
    "    \"\"\"\n",
    "    \n",
    "    index = len(word) - 1\n",
    "    while index >= 0:\n",
    "        print word[index]\n",
    "        index = index -1\n",
    "        \n",
    "backwards('banana')\n",
    "\n",
    "doctest.run_docstring_examples(backwards, globals())"
   ]
  },
  {
   "cell_type": "markdown",
   "metadata": {},
   "source": [
    "**Challenge (optional):** Write a function that translates words into [Pig Latin](https://en.wikipedia.org/wiki/Pig_Latin). \n",
    "\n",
    "**Additional challenge**: Write a function that translates back into English."
   ]
  },
  {
   "cell_type": "code",
   "execution_count": 32,
   "metadata": {
    "collapsed": false
   },
   "outputs": [
    {
     "name": "stdout",
     "output_type": "stream",
     "text": [
      "ananabay\n"
     ]
    }
   ],
   "source": [
    "def pig_latin(word):\n",
    "    \"\"\"\n",
    "    Return given 'word' translated into Pig Latin\n",
    "    \n",
    "    >>> pig_latin(\"software\")\n",
    "    oftwaresay\n",
    "    \"\"\"\n",
    "    pass #TODO: Implement me\n",
    "    print word[1:len(word)] + word[0] +'ay'\n",
    "\n",
    "# If you'd like to actually run the doctests here, you can uncomment the lines below.\n",
    "# We use this slightly more complex method to test only the pig_latin function, without running tests on any other functions that may be in this notebook.\n",
    "import doctest\n",
    "doctest.run_docstring_examples(pig_latin, globals())\n",
    "\n",
    "pig_latin('banana')"
   ]
  },
  {
   "cell_type": "markdown",
   "metadata": {},
   "source": [
    "### Exercise 5\n",
    "Encapsulate the character counting code in a fruitful function named `count` that accepts the string and the letter as arguments and returns the count."
   ]
  },
  {
   "cell_type": "code",
   "execution_count": 15,
   "metadata": {
    "collapsed": false
   },
   "outputs": [
    {
     "name": "stdout",
     "output_type": "stream",
     "text": [
      "platypus\n"
     ]
    },
    {
     "data": {
      "text/plain": [
       "2"
      ]
     },
     "execution_count": 15,
     "metadata": {},
     "output_type": "execute_result"
    }
   ],
   "source": [
    "\"\"\"\n",
    "Function that counts the number of occurances of a chosen letter in a chosen word.\n",
    "\n",
    ">>> count('Porcupine', 'p')\n",
    "2\n",
    ">>> count('Elephant', 'q')\n",
    "0\n",
    "\"\"\"\n",
    "def count(word, pick_a_letter):\n",
    "    word = word.lower()  # makes word all lower case because Python cares about that...\n",
    "    print word           # let's just check that it actually changed it all to lower case\n",
    "    \n",
    "    count = 0            # initialzes the count!\n",
    "    for letter in word:\n",
    "        if letter == pick_a_letter:\n",
    "            count = count + 1\n",
    "    return count\n",
    "\n",
    "import doctest\n",
    "doctest.run_docstring_examples(count, globals())\n",
    "\n",
    "count ('Platypus', 'p')"
   ]
  },
  {
   "cell_type": "markdown",
   "metadata": {},
   "source": [
    "### Exercise 8\n",
    "Skim the documentation of the Python [string methods](http://docs.python.org/2/library/stdtypes.html#string-methods). Experiment with some of them to make sure you understand how they work. strip, replace, and upper/lower are particularly useful."
   ]
  },
  {
   "cell_type": "code",
   "execution_count": 31,
   "metadata": {
    "collapsed": false
   },
   "outputs": [
    {
     "name": "stdout",
     "output_type": "stream",
     "text": [
      "example.com\n",
      "happy birthday\n",
      "peter pan\n",
      "4\n",
      "5\n"
     ]
    }
   ],
   "source": [
    "print 'www.example.com'.lstrip('cmowz.')\n",
    "print 'not happy birthday'.lstrip('not ')\n",
    "print 'peter piper'.replace('piper','pan')\n",
    "print 'ABCXYZABCXYZABCXYZABABABC'.count('ABC')\n",
    "print 'akfahhereisnisdiasddfjnothere'.find('here')\n",
    "\n"
   ]
  },
  {
   "cell_type": "markdown",
   "metadata": {},
   "source": [
    "### Exercise 11  \n",
    "\n",
    "The following functions are all intended to check whether a string contains any lowercase letters, but at least some of them are wrong. For each function, describe what the function actually does (assuming that the parameter is a string)."
   ]
  },
  {
   "cell_type": "code",
   "execution_count": null,
   "metadata": {
    "collapsed": true
   },
   "outputs": [],
   "source": [
    "def any_lowercase1(s): # Should work!\n",
    "    for c in s:\n",
    "        if c.islower():\n",
    "            return True\n",
    "        else:\n",
    "            return False"
   ]
  },
  {
   "cell_type": "markdown",
   "metadata": {},
   "source": [
    " "
   ]
  },
  {
   "cell_type": "code",
   "execution_count": null,
   "metadata": {
    "collapsed": true
   },
   "outputs": [],
   "source": [
    "def any_lowercase2(s):\n",
    "    for c in s:\n",
    "        if 'c'.islower():  # only looks for characters that are actually 'c's, not each character\n",
    "            return 'True'  # this is not the value True, simply a word\n",
    "        else:\n",
    "            return 'False' # this is not the value False, just a word"
   ]
  },
  {
   "cell_type": "markdown",
   "metadata": {},
   "source": [
    " "
   ]
  },
  {
   "cell_type": "code",
   "execution_count": null,
   "metadata": {
    "collapsed": true
   },
   "outputs": [],
   "source": [
    "def any_lowercase3(s):\n",
    "    for c in s:\n",
    "        flag = c.islower() # I don't think you can assign this method to a new variable...?\n",
    "    return flag"
   ]
  },
  {
   "cell_type": "markdown",
   "metadata": {},
   "source": [
    " "
   ]
  },
  {
   "cell_type": "code",
   "execution_count": null,
   "metadata": {
    "collapsed": true
   },
   "outputs": [],
   "source": [
    "def any_lowercase4(s):\n",
    "    flag = False\n",
    "    for c in s:\n",
    "        flag = flag or c.islower() # Again, I'm pretty sure this whole variable thing won't work for string methods...\n",
    "    return flag"
   ]
  },
  {
   "cell_type": "markdown",
   "metadata": {},
   "source": [
    " "
   ]
  },
  {
   "cell_type": "code",
   "execution_count": null,
   "metadata": {
    "collapsed": true
   },
   "outputs": [],
   "source": [
    "def any_lowercase5(s):\n",
    "    for c in s:\n",
    "        if not c.islower(): # this is kind of confusing and pointless to just do the reverse but I think it will work?\n",
    "            return False\n",
    "    return True"
   ]
  },
  {
   "cell_type": "markdown",
   "metadata": {},
   "source": [
    " "
   ]
  },
  {
   "cell_type": "markdown",
   "metadata": {},
   "source": [
    "## [Chapter 10.1 - 10.6](http://www.greenteapress.com/thinkpython/html/thinkpython011.html)\n",
    "\n",
    "You may want to review [state diagrams in Chapter 2](http://www.greenteapress.com/thinkpython/html/thinkpython003.html#toc13).\n",
    "\n",
    "LISTS:\n",
    "- Lists are sequences of values reffered to as elements or items\n",
    "- Denoted with [] (ex. my_list = [1, 2, 'hello', 'goodbye']\n",
    "- Lists are mutable, meaning they can be modified\n",
    "- Indexes are mapped to elements of a string (ex. my_list[1] = 2)\n",
    "\n",
    "TRAVERSING A LIST:\n",
    "for element in my_list:\n",
    "    print element\n",
    "\n",
    "i = 0\n",
    "for i in range(0, len(my_list)):\n",
    "    my_list[i] = my_list[i] * 2\n",
    "    i = i + 0\n",
    "    \n",
    "LIST OPERATIONS:\n",
    "- Concatination: a = [1, 2, 3] b = [4, 5, 6] c = a + b = [1, 2, 3, 4, 5, 6]\n",
    "- Repetition: [1, 2] * 3 = [1, 2, 1, 2, 1, 2]\n",
    "\n",
    "LIST SLICES:\n",
    "- entire list:                                 list[:]\n",
    "- from begining to certain element:            list[:5]\n",
    "- from certain element to end:                 list[3:]\n",
    "- from certain element to other element:       list[2:5]\n",
    "\n",
    "LIST METHODS:\n",
    "list = [1, 2, 3]\n",
    "list2 = [4, 5, 6]\n",
    "list3 = [1, 5, 3, 6, 2, 4]\n",
    "\n",
    "list.append(4) --> [1, 2, 3, 4]\n",
    "list.extend(list2) --> [1, 2, 3, 4, 5, 6]\n",
    "list3.sort() --> [1, 2, 3, 4, 5, 6]"
   ]
  },
  {
   "cell_type": "markdown",
   "metadata": {},
   "source": [
    "**Quick check:** What type of items can be placed in a list?"
   ]
  },
  {
   "cell_type": "markdown",
   "metadata": {},
   "source": [
    "Lists can contain integers, floats, booleans and other lists! "
   ]
  },
  {
   "cell_type": "markdown",
   "metadata": {},
   "source": [
    "**Quick check:** Give at least one similarity and one difference between lists and strings."
   ]
  },
  {
   "cell_type": "markdown",
   "metadata": {},
   "source": [
    "Lists and strings are both indexed with the [] notation\n",
    "Lists can be modified while strings are immutable"
   ]
  },
  {
   "cell_type": "markdown",
   "metadata": {},
   "source": [
    "### Exercise\n",
    "\n",
    "Write a function `average` that takes a list of numbers and returns their arithmetic mean."
   ]
  },
  {
   "cell_type": "code",
   "execution_count": 39,
   "metadata": {
    "collapsed": false
   },
   "outputs": [
    {
     "name": "stdout",
     "output_type": "stream",
     "text": [
      "2\n"
     ]
    }
   ],
   "source": [
    "def average(numbers):\n",
    "    num_sum = sum(numbers)\n",
    "    average = num_sum / len(numbers)\n",
    "    print average\n",
    "\n",
    "average([1,2,3])"
   ]
  },
  {
   "cell_type": "markdown",
   "metadata": {},
   "source": [
    "### Exercise\n",
    "You own a restaurant, and you need to keep up with the latest food fads or risk losing your fickle customers. You decide to write a Python function that adds the hot new ingredient _du jour_ to each of your regular menu items and returns the trendy new menu."
   ]
  },
  {
   "cell_type": "code",
   "execution_count": 51,
   "metadata": {
    "collapsed": false
   },
   "outputs": [],
   "source": [
    "def add_ingredient(menu, ingredient):\n",
    "    \"\"\"\n",
    "    Given a list of string 'menu' items and a trendy 'ingredient' string of the day,\n",
    "    return a new menu list of strings with the ingredient added to each.\n",
    "    \n",
    "    >>> add_ingredient([\"burger\", \"salad\", \"ice cream\"], \"kale\")\n",
    "    ['burger with kale', 'salad with kale', 'ice cream with kale']\n",
    "    \n",
    "    \"\"\"\n",
    "    pass    # TODO: Implement me\n",
    "    \n",
    "    i = 0\n",
    "    for item in menu:\n",
    "        menu[i] = menu[i] + ' with ' + ingredient\n",
    "        i = i + 1\n",
    "    return menu\n",
    "    \n",
    "add_ingredient(['pizza', 'pasta', 'salad'], 'chia seeds')\n",
    "\n",
    "# Running doctests in jupyter notebook:\n",
    "# If you'd like to actually run the doctests here, you can uncomment the lines below.\n",
    "# We use this slightly more complex method to test only the add_ingredient function,\n",
    "# without running tests on any other functions that may be in this notebook.\n",
    "\n",
    "import doctest\n",
    "doctest.run_docstring_examples(add_ingredient, globals())"
   ]
  },
  {
   "cell_type": "markdown",
   "metadata": {},
   "source": [
    "## Reading Journal feedback\n",
    "\n",
    "Have any comments on this Reading Journal? Feel free to leave them below and we'll read them when you submit your journal entry. This could include suggestions to improve the exercises, topics you'd like to see covered in class next time, or other feedback.\n",
    "\n",
    "If you have Python questions or run into problems while completing the reading, you should post them to Piazza instead so you can get a quick response before your journal is submitted."
   ]
  },
  {
   "cell_type": "markdown",
   "metadata": {},
   "source": [
    " "
   ]
  }
 ],
 "metadata": {
  "kernelspec": {
   "display_name": "Python 2",
   "language": "python",
   "name": "python2"
  },
  "language_info": {
   "codemirror_mode": {
    "name": "ipython",
    "version": 2
   },
   "file_extension": ".py",
   "mimetype": "text/x-python",
   "name": "python",
   "nbconvert_exporter": "python",
   "pygments_lexer": "ipython2",
   "version": "2.7.6"
  }
 },
 "nbformat": 4,
 "nbformat_minor": 0
}
