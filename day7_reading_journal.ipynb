{
 "cells": [
  {
   "cell_type": "markdown",
   "metadata": {},
   "source": [
    "# Day 7 Reading Journal\n",
    "\n",
    "This journal includes several required exercises, but it is meant to encourage active reading more generally.  You should use the journal to take detailed notes, catalog questions, and explore the content from Think Python deeply.\n",
    "\n",
    "Reading: Think Python Chapter 11, 12\n",
    "\n",
    "**Due: Thursday, February 18 at 12 noon**\n",
    "\n"
   ]
  },
  {
   "cell_type": "markdown",
   "metadata": {},
   "source": [
    "## [Chapter 11](http://www.greenteapress.com/thinkpython/html/thinkpython012.html)\n",
    "\n",
    "DICTIONARIES:\n",
    "- use built-in function dict() to create dictionary"
   ]
  },
  {
   "cell_type": "code",
   "execution_count": 1,
   "metadata": {
    "collapsed": false
   },
   "outputs": [
    {
     "name": "stdout",
     "output_type": "stream",
     "text": [
      "{'three': 'tres', 'two': 'dos', 'one': 'uno'}\n"
     ]
    }
   ],
   "source": [
    "eng2span = dict()\n",
    "eng2span = {'one':'uno', 'two':'dos', 'three':'tres'}\n",
    "print eng2span"
   ]
  },
  {
   "cell_type": "markdown",
   "metadata": {},
   "source": [
    "- to access elements of dictionary:"
   ]
  },
  {
   "cell_type": "code",
   "execution_count": 2,
   "metadata": {
    "collapsed": false
   },
   "outputs": [
    {
     "name": "stdout",
     "output_type": "stream",
     "text": [
      "dos\n"
     ]
    }
   ],
   "source": [
    "print eng2span['two']"
   ]
  },
  {
   "cell_type": "markdown",
   "metadata": {},
   "source": [
    "- in operator works but only for keys, not for values!"
   ]
  },
  {
   "cell_type": "markdown",
   "metadata": {},
   "source": [
    "**Quick check:** In about one sentence using your own words, what is a dictionary?"
   ]
  },
  {
   "cell_type": "markdown",
   "metadata": {},
   "source": [
    "A dictionary is a list of key-value pairs. These keys do not have to be integers as in the indices of a standard list. This also means they have no defined order. "
   ]
  },
  {
   "cell_type": "markdown",
   "metadata": {
    "is_question": true,
    "problem": "Exercise 11.2"
   },
   "source": [
    "### Exercise 2  \n",
    "\n",
    "Dictionaries have a [method called `get`](https://docs.python.org/2/library/stdtypes.html#mapping-types-dict) that takes a key and a default value. If the key appears in the dictionary, `get` returns the corresponding value; otherwise it returns the default value. For example:\n",
    "\n",
    "```\n",
    ">>> h = histogram('a')\n",
    ">>> print h\n",
    "{'a': 1}\n",
    ">>> h.get('a', 0)\n",
    "1\n",
    ">>> h.get('b', 0)\n",
    "0\n",
    "```\n",
    "\n",
    "Use `get` to write `histogram` more concisely. You should be able to eliminate the `if` statement. Add unit tests for your histogram implementation."
   ]
  },
  {
   "cell_type": "code",
   "execution_count": 7,
   "metadata": {
    "collapsed": false,
    "solution": "Exercise 11.2"
   },
   "outputs": [
    {
     "data": {
      "text/plain": [
       "{'a': 1, 'e': 2, 'h': 1, 'l': 1, 'n': 1, 'p': 1, 't': 1}"
      ]
     },
     "execution_count": 7,
     "metadata": {},
     "output_type": "execute_result"
    }
   ],
   "source": [
    "def histogram(s):\n",
    "    \"\"\" Function counts number of times each character appears in input string\n",
    "    >>> histogram('banana')\n",
    "    {'a': 3, 'b': 1, 'n': 2}\n",
    "    \"\"\"\n",
    "    d = dict()\n",
    "    for c in s:\n",
    "        d[c] = 1 + d.get(c, 0)\n",
    "    return d\n",
    "\n",
    "if __name__ == \"__main__\":\n",
    "    import doctest\n",
    "    doctest.testmod()\n",
    "    \n",
    "histogram('elephant')"
   ]
  },
  {
   "cell_type": "markdown",
   "metadata": {
    "is_question": true,
    "problem": "Exercise 11.4"
   },
   "source": [
    "### Exercise 4  \n",
    "\n",
    "Modify `reverse_lookup` so that it builds and returns a list of all keys that map to `v`, or an empty list if there are none. Add unit tests for your implementation."
   ]
  },
  {
   "cell_type": "code",
   "execution_count": 12,
   "metadata": {
    "collapsed": false,
    "solution": "Exercise 11.4"
   },
   "outputs": [
    {
     "data": {
      "text/plain": [
       "['e']"
      ]
     },
     "execution_count": 12,
     "metadata": {},
     "output_type": "execute_result"
    }
   ],
   "source": [
    "def reverse_lookup(d, v):\n",
    "    \"\"\"Function creates list of keys that map to input value\n",
    "    >>> reverse_lookup('boo', 2)\n",
    "    ['o']\n",
    "    >>> reverse_lookup('abbcc', 2)\n",
    "    ['b', 'c']\n",
    "    \"\"\"\n",
    "    \n",
    "    d = histogram(d)\n",
    "    l = list()\n",
    "    for k in d:\n",
    "        if d[k] == v:\n",
    "            l.append(k)\n",
    "    return sorted(l)\n",
    "\n",
    "if __name__ == \"__main__\":\n",
    "    import doctest\n",
    "    doctest.testmod()\n",
    "    \n",
    "reverse_lookup('elephant', 2)"
   ]
  },
  {
   "cell_type": "markdown",
   "metadata": {},
   "source": [
    "If you'd like to learn more about errors and exceptions, you can check out the [Python tutorial](https://docs.python.org/2/tutorial/errors.html) or read ahead to [Appendix A](http://www.greenteapress.com/thinkpython/html/thinkpython021.html) of Think Python. If you choose to use doctest for your unit testing, it can also [deal with exceptions](https://docs.python.org/2/library/doctest.html#what-about-exceptions)."
   ]
  },
  {
   "cell_type": "markdown",
   "metadata": {},
   "source": [
    "**Quick check** What type of objects can be used as keys to a dictionary, i.e. what property must they have?"
   ]
  },
  {
   "cell_type": "markdown",
   "metadata": {},
   "source": [
    " "
   ]
  },
  {
   "cell_type": "markdown",
   "metadata": {
    "is_question": true,
    "problem": "Exercise 11.6"
   },
   "source": [
    "### Exercise 6 (modified)\n",
    "\n",
    "Create a memoized version of your Levenshtein distance function from Day 7. What kind of performance change do you see?\n",
    "\n",
    "Optional: If you'd like to get some quantitative results, you could check out the [timeit](https://docs.python.org/2/library/timeit.html) module\n",
    "\n",
    "Note: You can also study Fibonacci here if you prefer."
   ]
  },
  {
   "cell_type": "code",
   "execution_count": 18,
   "metadata": {
    "collapsed": false,
    "solution": "Exercise 11.6"
   },
   "outputs": [
    {
     "name": "stdout",
     "output_type": "stream",
     "text": [
      "0.181765079498\n"
     ]
    },
    {
     "data": {
      "text/plain": [
       "354224848179261915075L"
      ]
     },
     "execution_count": 18,
     "metadata": {},
     "output_type": "execute_result"
    }
   ],
   "source": [
    "known = {0:0, 1:1}\n",
    "\n",
    "def fibonacci(n):\n",
    "    if n in known:\n",
    "        return known[n]\n",
    "    \n",
    "    res = fibonacci(n-1) + fibonacci(n-2)\n",
    "    known[n] = res\n",
    "    return res\n",
    "\n",
    "import timeit\n",
    "print timeit.timeit('\"-\".join(str(n) for n in range(100))', number=10000)\n",
    "\n",
    "fibonacci(100)\n",
    "\n",
    "# the computation time remained esentailly the same for inputs of 4, 10 and even 100"
   ]
  },
  {
   "cell_type": "markdown",
   "metadata": {},
   "source": [
    "## [Chapter 12](http://www.greenteapress.com/thinkpython/html/thinkpython013.html)\n",
    "\n",
    "**Quick check:** In about one sentence using your own words, what is a tuple?"
   ]
  },
  {
   "cell_type": "markdown",
   "metadata": {},
   "source": [
    "A tuple is an immutable list (a list that cannot be modified) "
   ]
  },
  {
   "cell_type": "markdown",
   "metadata": {},
   "source": [
    "VARIABLE LENGTH ARGUMENT TUPLES:\n",
    "- paramenter name starting with * gathers the arguments into a tuple\n",
    "\n",
    "LISTS AND TUPLES:\n",
    "- zip is a built-in function that takes two or more sequences and combines them into a list of tuples (each tuple has one element from each sequence)\n",
    "- the zip function returns a tuple the length of the shortest sequence"
   ]
  },
  {
   "cell_type": "code",
   "execution_count": 1,
   "metadata": {
    "collapsed": true
   },
   "outputs": [],
   "source": [
    "def has_match(t1, t2):\n",
    "    for x, y in zip (t1, t2):\n",
    "        if x == y:\n",
    "            return True\n",
    "    return False"
   ]
  },
  {
   "cell_type": "markdown",
   "metadata": {},
   "source": [
    "DICTIONARIES AND TUPLES:\n",
    "- items = dictionary method that return key-value pair as list of tuples - not ordered\n",
    "- can create dictionary with list of tuples\n",
    "- update method also uses tuples for key-value pairs"
   ]
  },
  {
   "cell_type": "code",
   "execution_count": 2,
   "metadata": {
    "collapsed": false
   },
   "outputs": [
    {
     "name": "stdout",
     "output_type": "stream",
     "text": [
      "{'a': 0, 'c': 2, 'b': 1}\n"
     ]
    }
   ],
   "source": [
    "t = [('a',0), ('c',2), ('b',1)]\n",
    "d = dict(t)\n",
    "print d"
   ]
  },
  {
   "cell_type": "code",
   "execution_count": 3,
   "metadata": {
    "collapsed": false
   },
   "outputs": [
    {
     "name": "stdout",
     "output_type": "stream",
     "text": [
      "0 a\n",
      "2 c\n",
      "1 b\n"
     ]
    }
   ],
   "source": [
    "for key, val in d.items():\n",
    "    print val, key"
   ]
  },
  {
   "cell_type": "markdown",
   "metadata": {},
   "source": [
    "COMPARING TUPLES:\n",
    "- relational operators compare each element of tuples in order "
   ]
  },
  {
   "cell_type": "markdown",
   "metadata": {
    "is_question": true,
    "problem": "Exercise 12.1"
   },
   "source": [
    "### Exercise 1  \n",
    "\n",
    "Many of the built-in functions use variable-length argument tuples. For example, `max` and `min` can take any number of arguments:\n",
    "\n",
    "```\n",
    ">>> max(1,2,3)\n",
    "3\n",
    "```\n",
    "\n",
    "But `sum` does not.\n",
    "\n",
    "```\n",
    ">>> sum(1,2,3)\n",
    "TypeError: sum expected at most 2 arguments, got 3\n",
    "```\n",
    "\n",
    "Write a function called ```sumall``` that takes any number of arguments and returns their sum. \n",
    "\n",
    "Write unit tests for your function. Do I actually need to keep saying this? Let's assume it's always a good idea :)"
   ]
  },
  {
   "cell_type": "code",
   "execution_count": 21,
   "metadata": {
    "collapsed": false,
    "solution": "Exercise 12.1"
   },
   "outputs": [
    {
     "name": "stdout",
     "output_type": "stream",
     "text": [
      "6\n"
     ]
    }
   ],
   "source": [
    "numbers = (1,2,3)\n",
    "\n",
    "def sumall(numbers):\n",
    "    \"\"\"Function sums all numbers in a list\n",
    "    >>> sumall([1,1,1])\n",
    "    3\n",
    "    >>> sumall([2,2,0,4])\n",
    "    8\n",
    "    \"\"\"\n",
    "    \n",
    "    x = 0\n",
    "    for i in numbers:\n",
    "        x = x + i\n",
    "    print x\n",
    "    \n",
    "if __name__ == \"__main__\":\n",
    "    import doctest\n",
    "    doctest.testmod()\n",
    "    \n",
    "sumall(numbers)"
   ]
  },
  {
   "cell_type": "code",
   "execution_count": 29,
   "metadata": {
    "collapsed": false
   },
   "outputs": [
    {
     "data": {
      "text/plain": [
       "6"
      ]
     },
     "execution_count": 29,
     "metadata": {},
     "output_type": "execute_result"
    }
   ],
   "source": [
    "def sumall(*args):\n",
    "    return sum(args)\n",
    "    \n",
    "sumall(1, 2, 3)"
   ]
  },
  {
   "cell_type": "markdown",
   "metadata": {},
   "source": [
    "If you're interested in more flexible ways to pass arguments to functions, check out the [Python tutorial](https://docs.python.org/2/tutorial/controlflow.html#more-on-defining-functions). For instance, you can also use keyword arguments, which are collected into a dictionary just like `*` gathers variable numbers of positional arguments into a tuple.\n",
    "\n",
    "This pattern is very common for defining functions with complex optional behaviors in Python, and you will often see definitions like:\n",
    "\n",
    "```\n",
    "def my_func(required_argument1, *arguments, **keywords):\n",
    "    ...\n",
    "```"
   ]
  },
  {
   "cell_type": "markdown",
   "metadata": {
    "is_question": true,
    "problem": "Exercise 12 sort"
   },
   "source": [
    "### Exercise\n",
    "\n",
    "Write a function `sort_by_last_letter` that takes a list of words and returns a new list with the words sorted alphabetically by the _last letter_ in the word. Hint: use the **Decorate, Sort, Undecorate** pattern. Write unit tests for your function."
   ]
  },
  {
   "cell_type": "code",
   "execution_count": 12,
   "metadata": {
    "collapsed": false,
    "solution": "Exercise 12 sort"
   },
   "outputs": [
    {
     "name": "stdout",
     "output_type": "stream",
     "text": [
      "[('e', 'apple')]\n",
      "[('e', 'apple'), ('a', 'banana')]\n",
      "[('e', 'apple'), ('a', 'banana'), ('t', 'elephant')]\n",
      "[('a', 'banana'), ('e', 'apple'), ('t', 'elephant')]\n"
     ]
    },
    {
     "data": {
      "text/plain": [
       "['banana', 'apple', 'elephant']"
      ]
     },
     "execution_count": 12,
     "metadata": {},
     "output_type": "execute_result"
    }
   ],
   "source": [
    "words = ('apple','banana','elephant')\n",
    "\n",
    "def sort_by_last_letter(words):\n",
    "    t = []\n",
    "    for word in words:\n",
    "        t.append((word[-1], word))\n",
    "        print t\n",
    "        \n",
    "    t.sort()\n",
    "    print t\n",
    "    \n",
    "    res = []\n",
    "    for letter, word in t:\n",
    "        res.append(word)\n",
    "    return res\n",
    "    print res\n",
    "\n",
    "sort_by_last_letter(words)"
   ]
  },
  {
   "cell_type": "markdown",
   "metadata": {},
   "source": [
    "**Quick check** Give an example of when you might use each sequence type:\n",
    "\n",
    "- tuple - immutable list - dictionary key, function parameter\n",
    "\n",
    "- list - when you want to be able to change the elements - sort, reverse, etc.\n",
    "\n",
    "- string - elements must be characters, immutable - dictionary key"
   ]
  },
  {
   "cell_type": "markdown",
   "metadata": {},
   "source": [
    " "
   ]
  },
  {
   "cell_type": "markdown",
   "metadata": {
    "is_question": true,
    "problem": "Exercise 12.3"
   },
   "source": [
    "### Exercise 3  \n",
    "\n",
    "Write a function called `most_frequent` that takes a string and prints the letters in decreasing order of frequency. Find text samples from several different languages and see how letter frequency varies between languages. Compare your results with the tables at http://en.wikipedia.org/wiki/Letter_frequencies. \n",
    "\n",
    "Allen's solution (try it on your own first): http://thinkpython.com/code/most_frequent.py. "
   ]
  },
  {
   "cell_type": "code",
   "execution_count": 20,
   "metadata": {
    "collapsed": false,
    "solution": "Exercise 12.3"
   },
   "outputs": [
    {
     "data": {
      "text/plain": [
       "['e', 'd', 'c', 'b', 'a']"
      ]
     },
     "execution_count": 20,
     "metadata": {},
     "output_type": "execute_result"
    }
   ],
   "source": [
    "def most_frequent(s):\n",
    "    \"\"\"Prints letters of string in decreasing order of frequency\n",
    "    >>> most_frequent('abbcccddddeeeee')\n",
    "    ['e', 'd', 'c', 'b', 'a']\n",
    "    >>> most_frequent('aaaaaaaaabbbbbcc')\n",
    "    ['a', 'b', 'c']\n",
    "    \"\"\"\n",
    "    \n",
    "    hist = make_histogram(s)\n",
    "    \n",
    "    t = []\n",
    "    for x, freq in hist.iteritems():\n",
    "        t.append((freq, x))\n",
    "        \n",
    "    t.sort(reverse=True)\n",
    "    \n",
    "    res = []\n",
    "    for freq, x in t:\n",
    "        res.append(x)\n",
    "    \n",
    "    return res\n",
    "\n",
    "def make_histogram(s):\n",
    "    \n",
    "    hist = {}\n",
    "    for x in s:\n",
    "        hist[x] = hist.get(x, 0) + 1\n",
    "    return hist\n",
    "\n",
    "if __name__ == \"__main__\":\n",
    "    import doctest\n",
    "    doctest.testmod()\n",
    "\n",
    "s = 'abbcccddddeeeee'\n",
    "most_frequent(s)"
   ]
  },
  {
   "cell_type": "markdown",
   "metadata": {
    "is_question": true,
    "problem": "Exercise 12.6"
   },
   "source": [
    "### Challenge: Exercise 6   (optional)\n",
    "\n",
    "From a [Car Talk Puzzler](http://www.cartalk.com/content/puzzlers):\n",
    "\n",
    "What is the longest English word, that remains a valid English word, as you remove its letters one at a time?\n",
    "\n",
    "Now, letters can be removed from either end, or the middle, but you can’t rearrange any of the letters. Every time you drop a letter, you wind up with another English word. If you do that, you’re eventually going to wind up with one letter and that too is going to be an English word—one that’s found in the dictionary. I want to know what’s the longest word and how many letters does it have?\n",
    "\n",
    "I’m going to give you a little modest example: Sprite. Ok? You start off with sprite, you take a letter off, one from the interior of the word, take the r away, and we’re left with the word spite, then we take the e off the end, we’re left with spit, we take the s off, we’re left with pit, it, and I. \n",
    "\n",
    "Write a program to find all words that can be reduced in this way, and then find the longest one.\n",
    "\n",
    "This exercise is a little more challenging than most, so here are some suggestions:\n",
    "\n",
    "- You might want to write a function that takes a word and computes a list of all the words that can be formed by removing one letter. These are the “children” of the word.\n",
    "- Recursively, a word is reducible if any of its children are reducible. As a base case, you can consider the empty string reducible.\n",
    "- The word list from [Chapter 9.1](http://www.greenteapress.com/thinkpython/html/thinkpython010.html) Exercise 1 doesn’t contain single letter words. So you might want to add “I”, “a”, and the empty string.\n",
    "- To improve the performance of your program, you might want to memoize the words that are known to be reducible.\n",
    "\n",
    "Allen's solution: http://thinkpython.com/code/reducible.py."
   ]
  },
  {
   "cell_type": "code",
   "execution_count": null,
   "metadata": {
    "collapsed": true,
    "solution": "Exercise 12.6"
   },
   "outputs": [],
   "source": []
  },
  {
   "cell_type": "markdown",
   "metadata": {
    "is_question": true,
    "problem": "Feedback"
   },
   "source": [
    "## Reading Journal feedback\n",
    "\n",
    "Have any comments on this Reading Journal? Feel free to leave them below and we'll read them when you submit your journal entry. This could include suggestions to improve the exercises, topics you'd like to see covered in class next time, or other feedback.\n",
    "\n",
    "If you have Python questions or run into problems while completing the reading, you should post them to Piazza instead so you can get a quick response before your journal is submitted."
   ]
  },
  {
   "cell_type": "markdown",
   "metadata": {
    "feedback_response": true,
    "solution": "Feedback"
   },
   "source": [
    "I don't really know how to fix this, but I am starting to feel like we have covered a lot of different stuff with a lot of minor syntactical differencese and similar things that have to be used in different situations and I am starting to get a little overwhelmed and confused and feel like it is not really sticking in my head the way I would like it to... Also these practice problems are getting very challenging for me and I feel like I cannot figure many of them out without refrencing the solution which makes me feel incompetent and sad :( Maybe I just need more rote practice on implementation for each thing we learn but we are covering new information too quickly for that to be feasible."
   ]
  },
  {
   "cell_type": "code",
   "execution_count": null,
   "metadata": {
    "collapsed": true
   },
   "outputs": [],
   "source": []
  }
 ],
 "metadata": {
  "celltoolbar": "Edit Metadata",
  "kernelspec": {
   "display_name": "Python 2",
   "language": "python",
   "name": "python2"
  },
  "language_info": {
   "codemirror_mode": {
    "name": "ipython",
    "version": 2
   },
   "file_extension": ".py",
   "mimetype": "text/x-python",
   "name": "python",
   "nbconvert_exporter": "python",
   "pygments_lexer": "ipython2",
   "version": "2.7.6"
  }
 },
 "nbformat": 4,
 "nbformat_minor": 0
}
