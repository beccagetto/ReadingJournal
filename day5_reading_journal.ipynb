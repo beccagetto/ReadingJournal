{
 "cells": [
  {
   "cell_type": "markdown",
   "metadata": {},
   "source": [
    "# Day 5 Reading Journal\n",
    "\n",
    "This journal includes several required exercises, but it is meant to encourage active reading more generally.  You should use the journal to take detailed notes, catalog questions, and explore the content from Think Python deeply.\n",
    "\n",
    "Reading: Think Python Chapter 4\n",
    "\n",
    "**Due: Monday, February 8 at 12 noon**\n",
    "\n"
   ]
  },
  {
   "cell_type": "markdown",
   "metadata": {},
   "source": [
    "## [Chapter 4](http://www.greenteapress.com/thinkpython/html/thinkpython005.html)\n",
    "\n",
    "In today's reading, you'll be exploring TurtleWorld!\n",
    "TurtleWorld is part of the [swampy](http://www.greenteapress.com/thinkpython/swampy/) package, written by Allen Downey.\n",
    "As part of the [Get Set](https://sites.google.com/site/sd16spring/home/assignments-and-mini-projects/setup-your-environment) assignment, you installed the swampy package using the pip Python package management tool. If you somehow missed that step or you see errors when you try to import TurtleWorld, you can install swampy by running:\n",
    "\n",
    "```\n",
    "sudo pip install swampy\n",
    "```\n",
    "\n",
    "at the command line.\n",
    "\n",
    "### Turtle wrangling\n",
    "\n",
    "You can always run your code as separate Python scripts, but here are a few tips for mixing TurtleWorld with Jupyter notebook:\n",
    "\n",
    " - TurtleWorld will appear in a new GUI window, rather than inline in the notebook like typical results do\n",
    " - You will not be able to close the TurtleWorld window unless you run `wait_for_user()` as the last line of your code.\n",
    " - Jupyter notebook works like one big Python script, even though it is broken up into sections. This means that you could create a Turtle in one cell, move it in a later cell, and then `wait_for_user()` in yet another. Despite this, it might be easier to treat each cell in this assignment as a separate script, creating a new world at the beginning and destroying it at the end of each\n",
    " \n",
    " Note: There really wasn't much to take notes on in this chapter. It was more for practicing implementation."
   ]
  },
  {
   "cell_type": "markdown",
   "metadata": {},
   "source": [
    "### Get started\n",
    "\n",
    "Run the code in the cell below and make sure everything works. You should see brave Alice spring into the world and run forward. You can close the window when you're done by clicking on the 'X'. If this simple test doesn't work, check your swampy install (especially if you get an `ImportError`) and ask for help."
   ]
  },
  {
   "cell_type": "code",
   "execution_count": 1,
   "metadata": {
    "collapsed": true
   },
   "outputs": [],
   "source": [
    "from swampy.TurtleWorld import *\n",
    "\n",
    "# Create the world, and a turtle to put in it\n",
    "world = TurtleWorld()\n",
    "alice = Turtle()\n",
    "\n",
    "# Get moving, turtle!\n",
    "fd(alice, 50)\n",
    "\n",
    "# Wait for the user to close the window\n",
    "wait_for_user()"
   ]
  },
  {
   "cell_type": "markdown",
   "metadata": {
    "is_question": true,
    "problem": "Section 4.3"
   },
   "source": [
    "### Section 4.3 exercises\n",
    "Work through exercises 1-5 in Section 4.3, creating the `square`, `polygon`, `circle`, and `arc` functions. You can reference Allen's solutions, but please try the problems on your own first."
   ]
  },
  {
   "cell_type": "code",
   "execution_count": 3,
   "metadata": {
    "collapsed": false,
    "solution": "Section 4.3"
   },
   "outputs": [
    {
     "name": "stdout",
     "output_type": "stream",
     "text": [
      "<swampy.TurtleWorld.Turtle object at 0x7fbef0b22750>\n"
     ]
    }
   ],
   "source": [
    "from swampy.TurtleWorld import *\n",
    "\n",
    "world = TurtleWorld()\n",
    "alice = Turtle()\n",
    "\n",
    "def square(t):\n",
    "    for i in range(4):\n",
    "        fd(t, 100)\n",
    "        lt(t)\n",
    "    print t\n",
    "    wait_for_user()\n",
    "    \n",
    "square(alice)"
   ]
  },
  {
   "cell_type": "code",
   "execution_count": 8,
   "metadata": {
    "collapsed": false
   },
   "outputs": [
    {
     "name": "stdout",
     "output_type": "stream",
     "text": [
      "<swampy.TurtleWorld.Turtle object at 0x7fbef0b22d10>\n"
     ]
    }
   ],
   "source": [
    "from swampy.TurtleWorld import *\n",
    "\n",
    "world = TurtleWorld()\n",
    "alice = Turtle()\n",
    "\n",
    "def square(t, length):\n",
    "    for i in range(4):\n",
    "        fd(t, length)\n",
    "        lt(t)\n",
    "    print t\n",
    "    wait_for_user()\n",
    "    \n",
    "square(alice, 80)"
   ]
  },
  {
   "cell_type": "code",
   "execution_count": 38,
   "metadata": {
    "collapsed": false
   },
   "outputs": [
    {
     "name": "stdout",
     "output_type": "stream",
     "text": [
      "<swampy.TurtleWorld.Turtle object at 0x7fbef0fe52d0>\n"
     ]
    }
   ],
   "source": [
    "from swampy.TurtleWorld import *\n",
    "\n",
    "world = TurtleWorld()\n",
    "alice = Turtle()\n",
    "alice.delay = 0.01\n",
    "\n",
    "def polygon(t, length, n):\n",
    "    for i in range(n):\n",
    "        fd(t, length)\n",
    "        lt(t, 360/n)\n",
    "    print t\n",
    "    wait_for_user()\n",
    "    \n",
    "polygon(alice, 20, 10)"
   ]
  },
  {
   "cell_type": "code",
   "execution_count": 39,
   "metadata": {
    "collapsed": false
   },
   "outputs": [
    {
     "name": "stdout",
     "output_type": "stream",
     "text": [
      "<swampy.TurtleWorld.Turtle object at 0x7fbef0fe5b90>\n"
     ]
    }
   ],
   "source": [
    "from swampy.TurtleWorld import *\n",
    "import math\n",
    "\n",
    "world = TurtleWorld()\n",
    "alice = Turtle()\n",
    "alice.delay = 0.01\n",
    "\n",
    "def polygon(t, n, length):\n",
    "    for i in range(n):\n",
    "        fd(t, length)\n",
    "        lt(t, 360/n)\n",
    "    print t\n",
    "    wait_for_user()\n",
    "\n",
    "def circle(t, r):\n",
    "    circumference = 2 * math.pi * r\n",
    "    #n = int(circumference / 3) + 1\n",
    "    n = 50\n",
    "    length = circumference / n\n",
    "    polygon(t, n, length)\n",
    "    \n",
    "circle(alice, 100)"
   ]
  },
  {
   "cell_type": "code",
   "execution_count": 48,
   "metadata": {
    "collapsed": false
   },
   "outputs": [],
   "source": [
    "from swampy.TurtleWorld import *\n",
    "import math\n",
    "\n",
    "world = TurtleWorld()\n",
    "alice = Turtle()\n",
    "alice.delay = 0.01\n",
    "\n",
    "\n",
    "def polyline(t, n, length, angle):\n",
    "    for i in range(n):\n",
    "        fd(t, length)\n",
    "        lt(t, angle)\n",
    "\n",
    "def polygon(t, n, length):\n",
    "    angle = 360.0 / n\n",
    "    polyline(t, n, length, angle)\n",
    "        \n",
    "def arc(t, r, angle):\n",
    "    arc_length = 2 * math.pi * r * angle / 360\n",
    "    n = int(arc_length / 3) + 1\n",
    "    step_length = arc_length / n\n",
    "    step_angle = float(angle) / n\n",
    "    \n",
    "def circle(t, r):\n",
    "    arc(t, r, 360)\n",
    "    \n",
    "circle(alice, 100)"
   ]
  },
  {
   "cell_type": "markdown",
   "metadata": {
    "is_question": true,
    "problem": "More fun"
   },
   "source": [
    "### Exercise: More fun with Turtles!\n",
    "Complete at least one of Exercise 2, 3, 4, or 5. If you come up with some cool drawings you'd like to share with the rest of the class, let us know!"
   ]
  },
  {
   "cell_type": "code",
   "execution_count": null,
   "metadata": {
    "collapsed": false,
    "solution": "More fun"
   },
   "outputs": [],
   "source": [
    "from swampy.TurtleWorld import *\n",
    "\n",
    "# creates the world and yurtle the turtle\n",
    "world = TurtleWorld()\n",
    "yurtle = Turtle()\n",
    "yurtle.delay = 0\n",
    "\n",
    "def draw_spiral(t, n, length=3, a=0.1, b=0.0009):\n",
    "    \"\"\"Draws an Archimedian spiral starting at the origin.\n",
    "    \n",
    "      n: how many line segments to draw\n",
    "      length: how long each line segment is\n",
    "      a: how loose the initial spiral starts out (larger is looser)\n",
    "      b: how loosly coiled the rest of the spiral is (larger is looser)\n",
    "      \n",
    "      r = a + (b * theta)\n",
    "\n",
    "    \"\"\"\n",
    "    theta = 0.0   # initialize theta\n",
    "\n",
    "    for i in range(n):\n",
    "        fd(t, length)\n",
    "        dtheta = 1 / (a + b * theta)   # how much the angle changes by with each step\n",
    "\n",
    "        lt(t, dtheta)\n",
    "        theta += dtheta   # increases theta as spiral unwinds\n",
    "\n",
    "\n",
    "\n",
    "draw_spiral(yurtle, n=500)\n",
    "\n",
    "wait_for_user()"
   ]
  },
  {
   "cell_type": "markdown",
   "metadata": {},
   "source": [
    "## Reading Journal feedback\n",
    "\n",
    "Have any comments on this Reading Journal? Feel free to leave them below and we'll read them when you submit your journal entry. This could include suggestions to improve the exercises, topics you'd like to see covered in class next time, or other feedback.\n",
    "\n",
    "If you have Python questions or run into problems while completing the reading, you should post them to Piazza instead so you can get a quick response before your journal is submitted."
   ]
  },
  {
   "cell_type": "markdown",
   "metadata": {},
   "source": [
    "I noticed that as my radius increased, I would get a gap in my circle so it would not be completely closed. The same behavior was apparet in the polygon function as the number of sides (n) became large. Is this due to accumulated error in calculation or something else? Is there a way to store more precise numbers than a float? I read about another value type called decimal? Would this be helpful? \n",
    "\n",
    "Note: needed to reference Allen's solutions to help me figure out the spiral problem. I didn't quite understand on my own how to handle the change in theta as it related to the radius. "
   ]
  }
 ],
 "metadata": {
  "kernelspec": {
   "display_name": "Python 2",
   "language": "python",
   "name": "python2"
  },
  "language_info": {
   "codemirror_mode": {
    "name": "ipython",
    "version": 2
   },
   "file_extension": ".py",
   "mimetype": "text/x-python",
   "name": "python",
   "nbconvert_exporter": "python",
   "pygments_lexer": "ipython2",
   "version": "2.7.6"
  }
 },
 "nbformat": 4,
 "nbformat_minor": 0
}
