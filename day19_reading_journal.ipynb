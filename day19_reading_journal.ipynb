{
 "cells": [
  {
   "cell_type": "markdown",
   "metadata": {},
   "source": [
    "# Day 19 Reading Journal\n",
    "\n",
    "This journal includes several required exercises, but it is meant to encourage active reading more generally.  You should use the journal to take detailed notes, catalog questions, and explore the content from Think Python deeply.\n",
    "\n",
    "Reading: Think Python **2** Chapter 19\n",
    "\n",
    "**Due: Thursday, April 7 at 12 noon**\n"
   ]
  },
  {
   "cell_type": "markdown",
   "metadata": {},
   "source": [
    "## [Chapter 19](http://greenteapress.com/thinkpython2/html/thinkpython2020.html)\n",
    "\n",
    "This reading is \"the goodies\" - all the cool Python features that aren't strictly necessary but can make your code more concise, readable, and/or efficient.\n",
    "\n",
    "**Note:** This chapter is taken from the Think Python second edition, which is written for Python 3. There are [several differences](https://blog.appdynamics.com/devops/the-key-differences-between-python-2-and-python-3/) between Python 2 and 3, but the main one that comes up in this chapter is that '''print''' is a normal function (with parentheses) in Python 3 instead of a special statement. The rest of the concepts you read about in this chapter are also available in Python 2.7.\n",
    "\n",
    "You can read any of the sections you like, but we particularly recommend sections 2, 5, 9.\n",
    "\n",
    "LIST COMPREHENSIONS:\n",
    "- Used to write functions more concisely "
   ]
  },
  {
   "cell_type": "code",
   "execution_count": null,
   "metadata": {
    "collapsed": true
   },
   "outputs": [],
   "source": [
    "def capitalize_all(t):\n",
    "    res = []\n",
    "    for s in t:\n",
    "        res.append(s.capitalize())\n",
    "    return res\n",
    "\n",
    "#change to:\n",
    "def capitalize_all(t):\n",
    "    return [s.capitalize() for s in t]"
   ]
  },
  {
   "cell_type": "markdown",
   "metadata": {},
   "source": [
    "SETS:\n",
    "- Acts like dictionary but does not take up the space of the value\n",
    "- An element can only appear in a set once"
   ]
  },
  {
   "cell_type": "code",
   "execution_count": null,
   "metadata": {
    "collapsed": true
   },
   "outputs": [],
   "source": [
    "def subtract (d1, d2):\n",
    "    return set(d1) - set (d2)"
   ]
  },
  {
   "cell_type": "markdown",
   "metadata": {},
   "source": [
    "GATHERING KEYWORD ARGS:\n",
    "- If you have a dictionary of keywords and values, you can use the scatter operator, (star star) to call a function: \n",
    "- Without the scatter operator, the function would treat d as a single positional argument, so it would assign d to x and complain because there’s nothing to assign to y:\n",
    "- When you are working with functions that have a large number of parameters, it is often useful to create and pass around dictionaries that specify frequently used options."
   ]
  },
  {
   "cell_type": "code",
   "execution_count": null,
   "metadata": {
    "collapsed": true
   },
   "outputs": [],
   "source": [
    ">>> d = dict(x=1, y=2)\n",
    ">>> Point(**d)\n",
    "Point(x=1, y=2)\n",
    "\n",
    ">>> d = dict(x=1, y=2)\n",
    ">>> Point(d)\n",
    "Traceback (most recent call last):\n",
    "  File \"<stdin>\", line 1, in <module>\n",
    "TypeError: __new__() missing 1 required positional argument: 'y'"
   ]
  },
  {
   "cell_type": "markdown",
   "metadata": {
    "is_question": true,
    "problem": "Exercise 19.1"
   },
   "source": [
    "### Exercise 1  \n",
    "\n",
    "Rewrite the following functions using list comprehensions."
   ]
  },
  {
   "cell_type": "code",
   "execution_count": 1,
   "metadata": {
    "collapsed": false,
    "solution": "Exercise 19.1"
   },
   "outputs": [
    {
     "data": {
      "text/plain": [
       "TestResults(failed=0, attempted=5)"
      ]
     },
     "execution_count": 1,
     "metadata": {},
     "output_type": "execute_result"
    }
   ],
   "source": [
    "def square(seq):\n",
    "    \"\"\"\n",
    "    Return a new list containing all the elements of 'seq'uence squared.\n",
    "    \n",
    "    >>> square([1, 2, 3])\n",
    "    [1, 4, 9]\n",
    "    >>> square([0, -5, 2.5])\n",
    "    [0, 25, 6.25]\n",
    "    >>> square([8, \"hello\", 10])\n",
    "    Traceback (most recent call last):\n",
    "      ...\n",
    "    TypeError: unsupported operand type(s) for ** or pow(): 'str' and 'int'\n",
    "    \"\"\"\n",
    "#     result = []\n",
    "#     for item in seq:\n",
    "#         squared_value = item **2\n",
    "#         result.append(squared_value)\n",
    "#     return result\n",
    "\n",
    "    return [item **2 for item in seq]\n",
    "\n",
    "def evens(seq):\n",
    "    \"\"\"\n",
    "    Return a new list containing only the elements of 'seq'uence that are even.\n",
    "    \n",
    "    >>> evens([1, 2, 3, 4])\n",
    "    [2, 4]\n",
    "    >>> evens(square(range(5)))\n",
    "    [0, 4, 16]\n",
    "    \"\"\"\n",
    "#     result = []\n",
    "#     for item in seq:\n",
    "#         if item % 2 == 0:\n",
    "#             result.append(item)\n",
    "#     return result\n",
    "\n",
    "    return [item for item in seq if item % 2 == 0]\n",
    "\n",
    "import doctest\n",
    "doctest.testmod()\n",
    "        "
   ]
  },
  {
   "cell_type": "markdown",
   "metadata": {},
   "source": [
    "## [Exceptions](https://docs.python.org/2/tutorial/errors.html)\n",
    "\n",
    "Read about Exceptions in Python and how to handle them (through section 8.4).\n",
    "\n",
    "Advanced (optional): Check out [context managers](https://docs.python.org/2/reference/datamodel.html#context-managers) and the ['''with''' statement](https://www.python.org/dev/peps/pep-0343/).\n",
    "\n",
    "SYNTAX ERRORS:\n",
    "- aka Parsing errors = most common error\n",
    "\n",
    "EXCEPTIONS:\n",
    "- Errors detected during execution are called exceptions and are not unconditionally fatal\n",
    "- The last line of the error message indicates what happened. Exceptions come in different types, and the type is printed as part of the message: the types in the example are ZeroDivisionError, NameError and TypeError.\n",
    "- many built-in exceptions, but can also be user-defined\n",
    "\n",
    "HANDLING EXCEPTIONS:\n",
    "- It is possible to write programs that handle selected exceptions\n",
    "- Uses try statement \n",
    "    - First, the try clause (the statement(s) between the try and except keywords) is executed.\n",
    "    - If no exception occurs, the except clause is skipped and execution of the try statement is finished.\n",
    "    - If an exception occurs during execution of the try clause, the rest of the clause is skipped. Then if its type matches the exception named after the except keyword, the except clause is executed, and then execution continues after the try statement.\n",
    "    - If an exception occurs which does not match the exception named in the except clause, it is passed on to outer try statements; if no handler is found, it is an unhandled exception and execution stops with a message as shown above."
   ]
  },
  {
   "cell_type": "code",
   "execution_count": null,
   "metadata": {
    "collapsed": true
   },
   "outputs": [],
   "source": [
    ">>> while True:\n",
    "...     try:\n",
    "...         x = int(raw_input(\"Please enter a number: \"))\n",
    "...         break\n",
    "...     except ValueError:\n",
    "...         print \"Oops!  That was no valid number.  Try again...\""
   ]
  },
  {
   "cell_type": "code",
   "execution_count": null,
   "metadata": {
    "collapsed": true
   },
   "outputs": [],
   "source": [
    "import sys\n",
    "\n",
    "try:\n",
    "    f = open('myfile.txt')\n",
    "    s = f.readline()\n",
    "    i = int(s.strip())\n",
    "except IOError as e:\n",
    "    print \"I/O error({0}): {1}\".format(e.errno, e.strerror)\n",
    "except ValueError:\n",
    "    print \"Could not convert data to an integer.\"\n",
    "except:\n",
    "    print \"Unexpected error:\", sys.exc_info()[0]\n",
    "    raise"
   ]
  },
  {
   "cell_type": "markdown",
   "metadata": {},
   "source": [
    "RAISING EXCEPTIONS:\n",
    "- raise statement allows programmer to force specific exception to occur\n",
    "- do not necessarilt need to handle exceptions, can just be made aware that is occured by re-raising it"
   ]
  },
  {
   "cell_type": "code",
   "execution_count": null,
   "metadata": {
    "collapsed": true
   },
   "outputs": [],
   "source": [
    ">>> raise NameError('HiThere')\n",
    "Traceback (most recent call last):\n",
    "  File \"<stdin>\", line 1, in ?\n",
    "NameError: HiThere"
   ]
  },
  {
   "cell_type": "code",
   "execution_count": null,
   "metadata": {
    "collapsed": true
   },
   "outputs": [],
   "source": [
    ">>> try:\n",
    "...     raise NameError('HiThere')\n",
    "... except NameError:\n",
    "...     print 'An exception flew by!'\n",
    "...     raise\n",
    "...\n",
    "An exception flew by!\n",
    "Traceback (most recent call last):\n",
    "  File \"<stdin>\", line 2, in ?\n",
    "NameError: HiThere"
   ]
  },
  {
   "cell_type": "markdown",
   "metadata": {
    "is_question": true,
    "problem": "Exercise 19.2"
   },
   "source": [
    "### Exercise 2 \n",
    "\n",
    "Complete the following function using an exception handler. How else might you implement it?"
   ]
  },
  {
   "cell_type": "code",
   "execution_count": null,
   "metadata": {
    "collapsed": false,
    "solution": "Exercise 19.2"
   },
   "outputs": [],
   "source": [
    "names = {\"Paul\": \"Ruvolo\", \"Oliver\": \"Steele\", \"Ben\": \"Hill\"}\n",
    "\n",
    "def formal_greeting(first_name, name_dict):\n",
    "    \"\"\"\n",
    "    Greet SoftDes professors by last name, and strangers with some skepticism.\n",
    "    \n",
    "    >>> formal_greeting(\"Oliver\", names)\n",
    "    Hello, Professor Steele!\n",
    "    >>> formal_greeting(\"Jasper\", names)\n",
    "    Howdy, stranger!\n",
    "    \"\"\"\n",
    "    while True:\n",
    "        try:\n",
    "            print \"Hello, Professor {}!\".format(name_dict[first_name])\n",
    "            break\n",
    "        except KeyError:\n",
    "            print \"Howdy, stranger!\"\n",
    "    \n",
    "\n",
    "doctest.run_docstring_examples(formal_greeting, globals())    "
   ]
  },
  {
   "cell_type": "markdown",
   "metadata": {
    "is_poll": true,
    "is_question": true,
    "problem": "Time spent"
   },
   "source": [
    "## Quick poll\n",
    "About how long did you spend working on this Reading Journal?"
   ]
  },
  {
   "cell_type": "markdown",
   "metadata": {
    "poll_response": true,
    "solution": "Time spent"
   },
   "source": [
    " "
   ]
  },
  {
   "cell_type": "markdown",
   "metadata": {
    "is_question": true,
    "problem": "Feedback"
   },
   "source": [
    "## Reading Journal feedback\n",
    "\n",
    "Have any comments on this Reading Journal? Feel free to leave them below and we'll read them when you submit your journal entry. This could include suggestions to improve the exercises, topics you'd like to see covered in class next time, or other feedback.\n",
    "\n",
    "If you have Python questions or run into problems while completing the reading, you should post them to Piazza instead so you can get a quick response before your journal is submitted."
   ]
  },
  {
   "cell_type": "markdown",
   "metadata": {
    "feedback_response": true,
    "solution": "Feedback"
   },
   "source": [
    "I don't really understand the point of exceptions...\n",
    "Couldn't you just use an if/else statement? Like if name in list do this, else do that....?"
   ]
  },
  {
   "cell_type": "code",
   "execution_count": null,
   "metadata": {
    "collapsed": true
   },
   "outputs": [],
   "source": []
  }
 ],
 "metadata": {
  "celltoolbar": "Edit Metadata",
  "kernelspec": {
   "display_name": "Python 2",
   "language": "python",
   "name": "python2"
  },
  "language_info": {
   "codemirror_mode": {
    "name": "ipython",
    "version": 2
   },
   "file_extension": ".py",
   "mimetype": "text/x-python",
   "name": "python",
   "nbconvert_exporter": "python",
   "pygments_lexer": "ipython2",
   "version": "2.7.6"
  }
 },
 "nbformat": 4,
 "nbformat_minor": 0
}
